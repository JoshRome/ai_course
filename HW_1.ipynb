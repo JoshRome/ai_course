{
  "nbformat": 4,
  "nbformat_minor": 0,
  "metadata": {
    "colab": {
      "name": "HW1.ipynb",
      "provenance": [],
      "collapsed_sections": [],
      "toc_visible": true,
      "authorship_tag": "ABX9TyMkVLlhOFmYSe2kpCUUwTSq",
      "include_colab_link": true
    },
    "kernelspec": {
      "name": "python3",
      "display_name": "Python 3"
    }
  },
  "cells": [
    {
      "cell_type": "markdown",
      "metadata": {
        "id": "view-in-github",
        "colab_type": "text"
      },
      "source": [
        "<a href=\"https://colab.research.google.com/github/JoshRome/ai_course/blob/master/HW_1.ipynb\" target=\"_parent\"><img src=\"https://colab.research.google.com/assets/colab-badge.svg\" alt=\"Open In Colab\"/></a>"
      ]
    },
    {
      "cell_type": "code",
      "metadata": {
        "id": "YHqFniSW2Agm",
        "colab_type": "code",
        "colab": {}
      },
      "source": [
        "import numpy as np"
      ],
      "execution_count": 0,
      "outputs": []
    },
    {
      "cell_type": "markdown",
      "metadata": {
        "id": "-WyG1Vza3TDA",
        "colab_type": "text"
      },
      "source": [
        "The code below will take a list of numpy arrays of matrices which will be multiplied together in a for loop until the final output matrix is printed. It will take a list of the entire input of matrices and pop the first matrix which will be stored as prev and will then be multiplied with the next matrix until there are no more pairs to multiply. We make a simple exception checker that will display which pair of matrices cause an error when multiplying."
      ]
    },
    {
      "cell_type": "code",
      "metadata": {
        "id": "MG2Db2dq9EeN",
        "colab_type": "code",
        "colab": {}
      },
      "source": [
        "def multiply_matrices(products):\n",
        "  matrices = products\n",
        "  prev = matrices.pop(0)\n",
        "\n",
        "  try:\n",
        "    for next in matrices:\n",
        "      prev = np.matmul(prev, next)\n",
        "\n",
        "  except ValueError as error:\n",
        "    print(error)\n",
        "    print(\"Fault pairs involved:\\n\" + str(prev) + \",\\n\" + str(next) + \"\\n\")\n",
        "    prev = np.array([0])\n",
        "  \n",
        "  return prev\n"
      ],
      "execution_count": 0,
      "outputs": []
    },
    {
      "cell_type": "markdown",
      "metadata": {
        "id": "Nj8qh2ktClja",
        "colab_type": "text"
      },
      "source": [
        "This Working Test Case shows what happens when you multiply a 2 x 2 matrix and displays the correct answer. "
      ]
    },
    {
      "cell_type": "code",
      "metadata": {
        "id": "tevR_LWPpDlB",
        "colab_type": "code",
        "colab": {
          "base_uri": "https://localhost:8080/",
          "height": 54
        },
        "outputId": "bccd23c7-d42a-4f77-f26a-986853d06f58"
      },
      "source": [
        "a = np.array([[1, 2], [3, 4]])\n",
        "b = np.array([[5, 6], [7, 8]])\n",
        "\n",
        "output = multiply_matrices([a,b])\n",
        "print(output)"
      ],
      "execution_count": 24,
      "outputs": [
        {
          "output_type": "stream",
          "text": [
            "[[19 22]\n",
            " [43 50]]\n"
          ],
          "name": "stdout"
        }
      ]
    },
    {
      "cell_type": "markdown",
      "metadata": {
        "id": "CN5if-2rs9VJ",
        "colab_type": "text"
      },
      "source": [
        "This next test case will show the error handeling of when you try to multiply a matrix with a bad pair. "
      ]
    },
    {
      "cell_type": "code",
      "metadata": {
        "id": "cU2S568ouBlD",
        "colab_type": "code",
        "colab": {
          "base_uri": "https://localhost:8080/",
          "height": 184
        },
        "outputId": "e24caacd-5921-4751-bf36-01fae503f08a"
      },
      "source": [
        "c = np.array([[1, 2], [3, 4]])\n",
        "d = np.array([[5, 6], [7, 8]])\n",
        "\n",
        "output = multiply_matrices([c,80])\n",
        "print(output)"
      ],
      "execution_count": 27,
      "outputs": [
        {
          "output_type": "stream",
          "text": [
            "matmul: Input operand 1 does not have enough dimensions (has 0, gufunc core with signature (n?,k),(k,m?)->(n?,m?) requires 1)\n",
            "Fault pairs involved:\n",
            "[[1 2]\n",
            " [3 4]],\n",
            "80\n",
            "\n",
            "[[1 2]\n",
            " [3 4]]\n"
          ],
          "name": "stdout"
        }
      ]
    }
  ]
}