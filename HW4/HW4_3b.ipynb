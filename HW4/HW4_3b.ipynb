{
  "nbformat": 4,
  "nbformat_minor": 0,
  "metadata": {
    "colab": {
      "name": "HW_3b.ipynb",
      "provenance": [],
      "include_colab_link": true
    },
    "kernelspec": {
      "name": "python3",
      "display_name": "Python 3"
    },
    "accelerator": "GPU"
  },
  "cells": [
    {
      "cell_type": "markdown",
      "metadata": {
        "id": "view-in-github",
        "colab_type": "text"
      },
      "source": [
        "<a href=\"https://colab.research.google.com/github/JoshRome/ai_course/blob/master/HW4/HW4_3b.ipynb\" target=\"_parent\"><img src=\"https://colab.research.google.com/assets/colab-badge.svg\" alt=\"Open In Colab\"/></a>"
      ]
    },
    {
      "cell_type": "markdown",
      "metadata": {
        "colab_type": "text",
        "id": "oiUymgEThHwl"
      },
      "source": [
        "# Fine-tuning MobileNet pt2\n",
        "\n"
      ]
    },
    {
      "cell_type": "markdown",
      "metadata": {
        "id": "TIW7bZaAK-Hf",
        "colab_type": "text"
      },
      "source": [
        "This is based on section 5.3 *Using a pretrained convnet* of the book *Deep learning with Python* by Francois Chollet. I have made several changes to the code. I use the data that is already provided by Google. I don't download the data from Kaggle as in the deep learning book."
      ]
    },
    {
      "cell_type": "markdown",
      "metadata": {
        "id": "nsBq__dVo2pj",
        "colab_type": "text"
      },
      "source": [
        "## Feature extraction"
      ]
    },
    {
      "cell_type": "markdown",
      "metadata": {
        "id": "0g6ETAM9o54M",
        "colab_type": "text"
      },
      "source": [
        "Feature extraction consists of using the representations learned by a previous network to extract interesting features from new samples. These features are then run through a new classifier, which is trained from scratch.\n",
        "\n",
        "We will use here the convolutional base of the MobileNet model to extract the features. We will feed these features to a densely connected classifier with dropout. We will fine-tune some layers."
      ]
    },
    {
      "cell_type": "markdown",
      "metadata": {
        "id": "BqIG8QHMLNOn",
        "colab_type": "text"
      },
      "source": [
        "## Download the data"
      ]
    },
    {
      "cell_type": "markdown",
      "metadata": {
        "id": "t3I1jd7cKV6_",
        "colab_type": "text"
      },
      "source": [
        "Download the example data, a zip. of 2,000 JPG pictures of cats and dogs and extract it locally in ```/tmp```.\n",
        "\n"
      ]
    },
    {
      "cell_type": "code",
      "metadata": {
        "id": "JWjprHEXJ5Qi",
        "colab_type": "code",
        "outputId": "73650945-280b-4bbb-a8cb-e7b659027707",
        "colab": {
          "base_uri": "https://localhost:8080/",
          "height": 223
        }
      },
      "source": [
        "!wget --no-check-certificate \\\n",
        "    https://storage.googleapis.com/mledu-datasets/cats_and_dogs_filtered.zip \\\n",
        "    -O /tmp/cats_and_dogs_filtered.zip"
      ],
      "execution_count": 69,
      "outputs": [
        {
          "output_type": "stream",
          "text": [
            "--2020-04-20 18:57:34--  https://storage.googleapis.com/mledu-datasets/cats_and_dogs_filtered.zip\n",
            "Resolving storage.googleapis.com (storage.googleapis.com)... 74.125.142.128, 2607:f8b0:400e:c09::80\n",
            "Connecting to storage.googleapis.com (storage.googleapis.com)|74.125.142.128|:443... connected.\n",
            "HTTP request sent, awaiting response... 200 OK\n",
            "Length: 68606236 (65M) [application/zip]\n",
            "Saving to: ‘/tmp/cats_and_dogs_filtered.zip’\n",
            "\n",
            "/tmp/cats_and_dogs_ 100%[===================>]  65.43M   114MB/s    in 0.6s    \n",
            "\n",
            "2020-04-20 18:57:35 (114 MB/s) - ‘/tmp/cats_and_dogs_filtered.zip’ saved [68606236/68606236]\n",
            "\n"
          ],
          "name": "stdout"
        }
      ]
    },
    {
      "cell_type": "code",
      "metadata": {
        "id": "WvoHtdA-K6Rw",
        "colab_type": "code",
        "colab": {}
      },
      "source": [
        "import os\n",
        "import zipfile\n",
        "\n",
        "local_zip = '/tmp/cats_and_dogs_filtered.zip'\n",
        "zip_ref = zipfile.ZipFile(local_zip, 'r')\n",
        "zip_ref.extractall('/tmp')\n",
        "zip_ref.close()"
      ],
      "execution_count": 0,
      "outputs": []
    },
    {
      "cell_type": "markdown",
      "metadata": {
        "id": "shZiOBnJMyy_",
        "colab_type": "text"
      },
      "source": [
        "Note that the data provided by Google does not have a test set."
      ]
    },
    {
      "cell_type": "code",
      "metadata": {
        "id": "dL8ikM89LlsH",
        "colab_type": "code",
        "colab": {}
      },
      "source": [
        "base_dir = '/tmp/cats_and_dogs_filtered'\n",
        "train_dir = os.path.join(base_dir, 'train')\n",
        "validation_dir = os.path.join(base_dir, 'validation')\n",
        "\n",
        "# Directory with our training cat pictures\n",
        "train_cats_dir = os.path.join(train_dir, 'cats')\n",
        "\n",
        "# Directory with our training dog pictures\n",
        "train_dogs_dir = os.path.join(train_dir, 'dogs')\n",
        "\n",
        "# Directory with our validation cat pictures\n",
        "validation_cats_dir = os.path.join(validation_dir, 'cats')\n",
        "\n",
        "# Directory with our validation dog pictures\n",
        "validation_dogs_dir = os.path.join(validation_dir, 'dogs')"
      ],
      "execution_count": 0,
      "outputs": []
    },
    {
      "cell_type": "markdown",
      "metadata": {
        "id": "inyP8bcdXnn-",
        "colab_type": "text"
      },
      "source": [
        "## Build network with MobileNet convolution base and custom densely connected layers"
      ]
    },
    {
      "cell_type": "markdown",
      "metadata": {
        "id": "kQ48W5T9rHWu",
        "colab_type": "text"
      },
      "source": [
        "### Load the convolutional base"
      ]
    },
    {
      "cell_type": "code",
      "metadata": {
        "id": "Y0FgtANCXm_H",
        "colab_type": "code",
        "outputId": "30214886-b4ad-4a9e-a3e3-43d801006921",
        "colab": {
          "base_uri": "https://localhost:8080/",
          "height": 74
        }
      },
      "source": [
        "from keras.applications import MobileNet\n",
        "\n",
        "conv_base = MobileNet(\n",
        "    weights='imagenet', \n",
        "    include_top=False, \n",
        "    input_shape=(150, 150, 3))"
      ],
      "execution_count": 72,
      "outputs": [
        {
          "output_type": "stream",
          "text": [
            "/usr/local/lib/python3.6/dist-packages/keras_applications/mobilenet.py:207: UserWarning: `input_shape` is undefined or non-square, or `rows` is not in [128, 160, 192, 224]. Weights for input shape (224, 224) will be loaded as the default.\n",
            "  warnings.warn('`input_shape` is undefined or non-square, '\n"
          ],
          "name": "stderr"
        }
      ]
    },
    {
      "cell_type": "code",
      "metadata": {
        "id": "3zhBUjVahmzt",
        "colab_type": "code",
        "colab": {
          "base_uri": "https://localhost:8080/",
          "height": 1000
        },
        "outputId": "f02ae0c9-b4c3-43a9-82f5-60b2a2714b75"
      },
      "source": [
        "conv_base.summary()"
      ],
      "execution_count": 73,
      "outputs": [
        {
          "output_type": "stream",
          "text": [
            "Model: \"mobilenet_1.00_224\"\n",
            "_________________________________________________________________\n",
            "Layer (type)                 Output Shape              Param #   \n",
            "=================================================================\n",
            "input_5 (InputLayer)         (None, 150, 150, 3)       0         \n",
            "_________________________________________________________________\n",
            "conv1_pad (ZeroPadding2D)    (None, 151, 151, 3)       0         \n",
            "_________________________________________________________________\n",
            "conv1 (Conv2D)               (None, 75, 75, 32)        864       \n",
            "_________________________________________________________________\n",
            "conv1_bn (BatchNormalization (None, 75, 75, 32)        128       \n",
            "_________________________________________________________________\n",
            "conv1_relu (ReLU)            (None, 75, 75, 32)        0         \n",
            "_________________________________________________________________\n",
            "conv_dw_1 (DepthwiseConv2D)  (None, 75, 75, 32)        288       \n",
            "_________________________________________________________________\n",
            "conv_dw_1_bn (BatchNormaliza (None, 75, 75, 32)        128       \n",
            "_________________________________________________________________\n",
            "conv_dw_1_relu (ReLU)        (None, 75, 75, 32)        0         \n",
            "_________________________________________________________________\n",
            "conv_pw_1 (Conv2D)           (None, 75, 75, 64)        2048      \n",
            "_________________________________________________________________\n",
            "conv_pw_1_bn (BatchNormaliza (None, 75, 75, 64)        256       \n",
            "_________________________________________________________________\n",
            "conv_pw_1_relu (ReLU)        (None, 75, 75, 64)        0         \n",
            "_________________________________________________________________\n",
            "conv_pad_2 (ZeroPadding2D)   (None, 76, 76, 64)        0         \n",
            "_________________________________________________________________\n",
            "conv_dw_2 (DepthwiseConv2D)  (None, 37, 37, 64)        576       \n",
            "_________________________________________________________________\n",
            "conv_dw_2_bn (BatchNormaliza (None, 37, 37, 64)        256       \n",
            "_________________________________________________________________\n",
            "conv_dw_2_relu (ReLU)        (None, 37, 37, 64)        0         \n",
            "_________________________________________________________________\n",
            "conv_pw_2 (Conv2D)           (None, 37, 37, 128)       8192      \n",
            "_________________________________________________________________\n",
            "conv_pw_2_bn (BatchNormaliza (None, 37, 37, 128)       512       \n",
            "_________________________________________________________________\n",
            "conv_pw_2_relu (ReLU)        (None, 37, 37, 128)       0         \n",
            "_________________________________________________________________\n",
            "conv_dw_3 (DepthwiseConv2D)  (None, 37, 37, 128)       1152      \n",
            "_________________________________________________________________\n",
            "conv_dw_3_bn (BatchNormaliza (None, 37, 37, 128)       512       \n",
            "_________________________________________________________________\n",
            "conv_dw_3_relu (ReLU)        (None, 37, 37, 128)       0         \n",
            "_________________________________________________________________\n",
            "conv_pw_3 (Conv2D)           (None, 37, 37, 128)       16384     \n",
            "_________________________________________________________________\n",
            "conv_pw_3_bn (BatchNormaliza (None, 37, 37, 128)       512       \n",
            "_________________________________________________________________\n",
            "conv_pw_3_relu (ReLU)        (None, 37, 37, 128)       0         \n",
            "_________________________________________________________________\n",
            "conv_pad_4 (ZeroPadding2D)   (None, 38, 38, 128)       0         \n",
            "_________________________________________________________________\n",
            "conv_dw_4 (DepthwiseConv2D)  (None, 18, 18, 128)       1152      \n",
            "_________________________________________________________________\n",
            "conv_dw_4_bn (BatchNormaliza (None, 18, 18, 128)       512       \n",
            "_________________________________________________________________\n",
            "conv_dw_4_relu (ReLU)        (None, 18, 18, 128)       0         \n",
            "_________________________________________________________________\n",
            "conv_pw_4 (Conv2D)           (None, 18, 18, 256)       32768     \n",
            "_________________________________________________________________\n",
            "conv_pw_4_bn (BatchNormaliza (None, 18, 18, 256)       1024      \n",
            "_________________________________________________________________\n",
            "conv_pw_4_relu (ReLU)        (None, 18, 18, 256)       0         \n",
            "_________________________________________________________________\n",
            "conv_dw_5 (DepthwiseConv2D)  (None, 18, 18, 256)       2304      \n",
            "_________________________________________________________________\n",
            "conv_dw_5_bn (BatchNormaliza (None, 18, 18, 256)       1024      \n",
            "_________________________________________________________________\n",
            "conv_dw_5_relu (ReLU)        (None, 18, 18, 256)       0         \n",
            "_________________________________________________________________\n",
            "conv_pw_5 (Conv2D)           (None, 18, 18, 256)       65536     \n",
            "_________________________________________________________________\n",
            "conv_pw_5_bn (BatchNormaliza (None, 18, 18, 256)       1024      \n",
            "_________________________________________________________________\n",
            "conv_pw_5_relu (ReLU)        (None, 18, 18, 256)       0         \n",
            "_________________________________________________________________\n",
            "conv_pad_6 (ZeroPadding2D)   (None, 19, 19, 256)       0         \n",
            "_________________________________________________________________\n",
            "conv_dw_6 (DepthwiseConv2D)  (None, 9, 9, 256)         2304      \n",
            "_________________________________________________________________\n",
            "conv_dw_6_bn (BatchNormaliza (None, 9, 9, 256)         1024      \n",
            "_________________________________________________________________\n",
            "conv_dw_6_relu (ReLU)        (None, 9, 9, 256)         0         \n",
            "_________________________________________________________________\n",
            "conv_pw_6 (Conv2D)           (None, 9, 9, 512)         131072    \n",
            "_________________________________________________________________\n",
            "conv_pw_6_bn (BatchNormaliza (None, 9, 9, 512)         2048      \n",
            "_________________________________________________________________\n",
            "conv_pw_6_relu (ReLU)        (None, 9, 9, 512)         0         \n",
            "_________________________________________________________________\n",
            "conv_dw_7 (DepthwiseConv2D)  (None, 9, 9, 512)         4608      \n",
            "_________________________________________________________________\n",
            "conv_dw_7_bn (BatchNormaliza (None, 9, 9, 512)         2048      \n",
            "_________________________________________________________________\n",
            "conv_dw_7_relu (ReLU)        (None, 9, 9, 512)         0         \n",
            "_________________________________________________________________\n",
            "conv_pw_7 (Conv2D)           (None, 9, 9, 512)         262144    \n",
            "_________________________________________________________________\n",
            "conv_pw_7_bn (BatchNormaliza (None, 9, 9, 512)         2048      \n",
            "_________________________________________________________________\n",
            "conv_pw_7_relu (ReLU)        (None, 9, 9, 512)         0         \n",
            "_________________________________________________________________\n",
            "conv_dw_8 (DepthwiseConv2D)  (None, 9, 9, 512)         4608      \n",
            "_________________________________________________________________\n",
            "conv_dw_8_bn (BatchNormaliza (None, 9, 9, 512)         2048      \n",
            "_________________________________________________________________\n",
            "conv_dw_8_relu (ReLU)        (None, 9, 9, 512)         0         \n",
            "_________________________________________________________________\n",
            "conv_pw_8 (Conv2D)           (None, 9, 9, 512)         262144    \n",
            "_________________________________________________________________\n",
            "conv_pw_8_bn (BatchNormaliza (None, 9, 9, 512)         2048      \n",
            "_________________________________________________________________\n",
            "conv_pw_8_relu (ReLU)        (None, 9, 9, 512)         0         \n",
            "_________________________________________________________________\n",
            "conv_dw_9 (DepthwiseConv2D)  (None, 9, 9, 512)         4608      \n",
            "_________________________________________________________________\n",
            "conv_dw_9_bn (BatchNormaliza (None, 9, 9, 512)         2048      \n",
            "_________________________________________________________________\n",
            "conv_dw_9_relu (ReLU)        (None, 9, 9, 512)         0         \n",
            "_________________________________________________________________\n",
            "conv_pw_9 (Conv2D)           (None, 9, 9, 512)         262144    \n",
            "_________________________________________________________________\n",
            "conv_pw_9_bn (BatchNormaliza (None, 9, 9, 512)         2048      \n",
            "_________________________________________________________________\n",
            "conv_pw_9_relu (ReLU)        (None, 9, 9, 512)         0         \n",
            "_________________________________________________________________\n",
            "conv_dw_10 (DepthwiseConv2D) (None, 9, 9, 512)         4608      \n",
            "_________________________________________________________________\n",
            "conv_dw_10_bn (BatchNormaliz (None, 9, 9, 512)         2048      \n",
            "_________________________________________________________________\n",
            "conv_dw_10_relu (ReLU)       (None, 9, 9, 512)         0         \n",
            "_________________________________________________________________\n",
            "conv_pw_10 (Conv2D)          (None, 9, 9, 512)         262144    \n",
            "_________________________________________________________________\n",
            "conv_pw_10_bn (BatchNormaliz (None, 9, 9, 512)         2048      \n",
            "_________________________________________________________________\n",
            "conv_pw_10_relu (ReLU)       (None, 9, 9, 512)         0         \n",
            "_________________________________________________________________\n",
            "conv_dw_11 (DepthwiseConv2D) (None, 9, 9, 512)         4608      \n",
            "_________________________________________________________________\n",
            "conv_dw_11_bn (BatchNormaliz (None, 9, 9, 512)         2048      \n",
            "_________________________________________________________________\n",
            "conv_dw_11_relu (ReLU)       (None, 9, 9, 512)         0         \n",
            "_________________________________________________________________\n",
            "conv_pw_11 (Conv2D)          (None, 9, 9, 512)         262144    \n",
            "_________________________________________________________________\n",
            "conv_pw_11_bn (BatchNormaliz (None, 9, 9, 512)         2048      \n",
            "_________________________________________________________________\n",
            "conv_pw_11_relu (ReLU)       (None, 9, 9, 512)         0         \n",
            "_________________________________________________________________\n",
            "conv_pad_12 (ZeroPadding2D)  (None, 10, 10, 512)       0         \n",
            "_________________________________________________________________\n",
            "conv_dw_12 (DepthwiseConv2D) (None, 4, 4, 512)         4608      \n",
            "_________________________________________________________________\n",
            "conv_dw_12_bn (BatchNormaliz (None, 4, 4, 512)         2048      \n",
            "_________________________________________________________________\n",
            "conv_dw_12_relu (ReLU)       (None, 4, 4, 512)         0         \n",
            "_________________________________________________________________\n",
            "conv_pw_12 (Conv2D)          (None, 4, 4, 1024)        524288    \n",
            "_________________________________________________________________\n",
            "conv_pw_12_bn (BatchNormaliz (None, 4, 4, 1024)        4096      \n",
            "_________________________________________________________________\n",
            "conv_pw_12_relu (ReLU)       (None, 4, 4, 1024)        0         \n",
            "_________________________________________________________________\n",
            "conv_dw_13 (DepthwiseConv2D) (None, 4, 4, 1024)        9216      \n",
            "_________________________________________________________________\n",
            "conv_dw_13_bn (BatchNormaliz (None, 4, 4, 1024)        4096      \n",
            "_________________________________________________________________\n",
            "conv_dw_13_relu (ReLU)       (None, 4, 4, 1024)        0         \n",
            "_________________________________________________________________\n",
            "conv_pw_13 (Conv2D)          (None, 4, 4, 1024)        1048576   \n",
            "_________________________________________________________________\n",
            "conv_pw_13_bn (BatchNormaliz (None, 4, 4, 1024)        4096      \n",
            "_________________________________________________________________\n",
            "conv_pw_13_relu (ReLU)       (None, 4, 4, 1024)        0         \n",
            "=================================================================\n",
            "Total params: 3,228,864\n",
            "Trainable params: 3,206,976\n",
            "Non-trainable params: 21,888\n",
            "_________________________________________________________________\n"
          ],
          "name": "stdout"
        }
      ]
    },
    {
      "cell_type": "markdown",
      "metadata": {
        "id": "D6OBHOO9q1ou",
        "colab_type": "text"
      },
      "source": [
        "### Freeze the convolutional base"
      ]
    },
    {
      "cell_type": "code",
      "metadata": {
        "id": "UleRo4Dpq6Ld",
        "colab_type": "code",
        "colab": {}
      },
      "source": [
        "conv_base.trainable = False"
      ],
      "execution_count": 0,
      "outputs": []
    },
    {
      "cell_type": "markdown",
      "metadata": {
        "id": "Qfx6PqhPrb7Q",
        "colab_type": "text"
      },
      "source": [
        "### Concatenate the convolutional base and densely connected layers"
      ]
    },
    {
      "cell_type": "code",
      "metadata": {
        "id": "qUpmocDAO3xm",
        "colab_type": "code",
        "colab": {}
      },
      "source": [
        "from keras import layers\n",
        "from keras import models\n",
        "from keras import optimizers\n",
        "\n",
        "model = models.Sequential()\n",
        "model.add(conv_base)\n",
        "model.add(layers.Flatten())\n",
        "model.add(layers.Dense(512, activation='relu'))\n",
        "model.add(layers.Dropout(0.1))\n",
        "model.add(layers.Dense(64, activation='relu'))\n",
        "model.add(layers.Dropout(0.1))\n",
        "model.add(layers.Dense(1, activation='sigmoid'))"
      ],
      "execution_count": 0,
      "outputs": []
    },
    {
      "cell_type": "code",
      "metadata": {
        "id": "Fh6gZSeAjF7c",
        "colab_type": "code",
        "outputId": "160166b4-1fbb-4b9c-9293-4ba7e836c708",
        "colab": {
          "base_uri": "https://localhost:8080/",
          "height": 429
        }
      },
      "source": [
        "model.summary()"
      ],
      "execution_count": 76,
      "outputs": [
        {
          "output_type": "stream",
          "text": [
            "Model: \"sequential_7\"\n",
            "_________________________________________________________________\n",
            "Layer (type)                 Output Shape              Param #   \n",
            "=================================================================\n",
            "mobilenet_1.00_224 (Model)   (None, 4, 4, 1024)        3228864   \n",
            "_________________________________________________________________\n",
            "flatten_7 (Flatten)          (None, 16384)             0         \n",
            "_________________________________________________________________\n",
            "dense_19 (Dense)             (None, 512)               8389120   \n",
            "_________________________________________________________________\n",
            "dropout_13 (Dropout)         (None, 512)               0         \n",
            "_________________________________________________________________\n",
            "dense_20 (Dense)             (None, 64)                32832     \n",
            "_________________________________________________________________\n",
            "dropout_14 (Dropout)         (None, 64)                0         \n",
            "_________________________________________________________________\n",
            "dense_21 (Dense)             (None, 1)                 65        \n",
            "=================================================================\n",
            "Total params: 11,650,881\n",
            "Trainable params: 8,422,017\n",
            "Non-trainable params: 3,228,864\n",
            "_________________________________________________________________\n"
          ],
          "name": "stdout"
        }
      ]
    },
    {
      "cell_type": "markdown",
      "metadata": {
        "id": "eZjBiddhi5Qj",
        "colab_type": "text"
      },
      "source": [
        "## Train the model end to end with frozen convolutional base"
      ]
    },
    {
      "cell_type": "code",
      "metadata": {
        "id": "tfAQlC2Oi41L",
        "colab_type": "code",
        "outputId": "84939292-3673-4ceb-e687-e46153c1984b",
        "colab": {
          "base_uri": "https://localhost:8080/",
          "height": 1000
        }
      },
      "source": [
        "from keras.preprocessing.image import ImageDataGenerator\n",
        "from keras import optimizers\n",
        "\n",
        "# data augmentation\n",
        "\n",
        "train_datagen = ImageDataGenerator(\n",
        "    rescale=1./255, \n",
        "    rotation_range=40,\n",
        "    width_shift_range=0.2,\n",
        "    height_shift_range=0.2,\n",
        "    shear_range=0.2,\n",
        "    zoom_range=0.2,\n",
        "    horizontal_flip=True,\n",
        "    fill_mode='nearest'\n",
        ")\n",
        "\n",
        "train_generator = train_datagen.flow_from_directory(\n",
        "    train_dir,\n",
        "    target_size=(150, 150),\n",
        "    batch_size=20,\n",
        "    class_mode='binary')\n",
        "\n",
        "validation_datagen = ImageDataGenerator(rescale=1./255)\n",
        "\n",
        "validation_generator = validation_datagen.flow_from_directory(\n",
        "    validation_dir,\n",
        "    target_size=(150, 150),\n",
        "    batch_size=20,\n",
        "    class_mode='binary')\n",
        "\n",
        "# compile model\n",
        "\n",
        "model.compile(\n",
        "    loss='binary_crossentropy', \n",
        "    optimizer=optimizers.RMSprop(lr=2e-5), \n",
        "    metrics=['acc'])\n",
        "\n",
        "# train\n",
        "\n",
        "history = model.fit_generator(\n",
        "    train_generator,\n",
        "    steps_per_epoch=100,\n",
        "    epochs=100,\n",
        "    validation_data=validation_generator,\n",
        "    validation_steps=50\n",
        ")"
      ],
      "execution_count": 81,
      "outputs": [
        {
          "output_type": "stream",
          "text": [
            "Found 2000 images belonging to 2 classes.\n",
            "Found 1000 images belonging to 2 classes.\n",
            "Epoch 1/100\n",
            "100/100 [==============================] - 19s 190ms/step - loss: 0.1709 - acc: 0.9355 - val_loss: 0.2332 - val_acc: 0.9560\n",
            "Epoch 2/100\n",
            "100/100 [==============================] - 16s 163ms/step - loss: 0.1631 - acc: 0.9405 - val_loss: 0.1083 - val_acc: 0.9630\n",
            "Epoch 3/100\n",
            "100/100 [==============================] - 16s 163ms/step - loss: 0.1582 - acc: 0.9440 - val_loss: 0.1259 - val_acc: 0.9400\n",
            "Epoch 4/100\n",
            "100/100 [==============================] - 16s 163ms/step - loss: 0.1517 - acc: 0.9430 - val_loss: 0.1365 - val_acc: 0.9600\n",
            "Epoch 5/100\n",
            "100/100 [==============================] - 16s 164ms/step - loss: 0.1616 - acc: 0.9410 - val_loss: 0.0678 - val_acc: 0.9600\n",
            "Epoch 6/100\n",
            "100/100 [==============================] - 16s 162ms/step - loss: 0.1377 - acc: 0.9430 - val_loss: 0.2040 - val_acc: 0.9640\n",
            "Epoch 7/100\n",
            "100/100 [==============================] - 16s 162ms/step - loss: 0.1451 - acc: 0.9445 - val_loss: 0.0029 - val_acc: 0.9580\n",
            "Epoch 8/100\n",
            "100/100 [==============================] - 16s 163ms/step - loss: 0.1665 - acc: 0.9400 - val_loss: 2.8805e-04 - val_acc: 0.9540\n",
            "Epoch 9/100\n",
            "100/100 [==============================] - 16s 162ms/step - loss: 0.1671 - acc: 0.9375 - val_loss: 0.3789 - val_acc: 0.9600\n",
            "Epoch 10/100\n",
            "100/100 [==============================] - 16s 164ms/step - loss: 0.1596 - acc: 0.9360 - val_loss: 0.2953 - val_acc: 0.9610\n",
            "Epoch 11/100\n",
            "100/100 [==============================] - 16s 161ms/step - loss: 0.1438 - acc: 0.9510 - val_loss: 0.0576 - val_acc: 0.9560\n",
            "Epoch 12/100\n",
            "100/100 [==============================] - 16s 162ms/step - loss: 0.1457 - acc: 0.9440 - val_loss: 0.1587 - val_acc: 0.9550\n",
            "Epoch 13/100\n",
            "100/100 [==============================] - 16s 162ms/step - loss: 0.1563 - acc: 0.9495 - val_loss: 0.3648 - val_acc: 0.9610\n",
            "Epoch 14/100\n",
            "100/100 [==============================] - 16s 161ms/step - loss: 0.1593 - acc: 0.9410 - val_loss: 0.1186 - val_acc: 0.9610\n",
            "Epoch 15/100\n",
            "100/100 [==============================] - 16s 162ms/step - loss: 0.1326 - acc: 0.9520 - val_loss: 0.4669 - val_acc: 0.9610\n",
            "Epoch 16/100\n",
            "100/100 [==============================] - 16s 162ms/step - loss: 0.1561 - acc: 0.9435 - val_loss: 0.3641 - val_acc: 0.9580\n",
            "Epoch 17/100\n",
            "100/100 [==============================] - 16s 163ms/step - loss: 0.1372 - acc: 0.9460 - val_loss: 0.1250 - val_acc: 0.9550\n",
            "Epoch 18/100\n",
            "100/100 [==============================] - 16s 162ms/step - loss: 0.1220 - acc: 0.9555 - val_loss: 0.0038 - val_acc: 0.9620\n",
            "Epoch 19/100\n",
            "100/100 [==============================] - 16s 161ms/step - loss: 0.1114 - acc: 0.9585 - val_loss: 0.0473 - val_acc: 0.9550\n",
            "Epoch 20/100\n",
            "100/100 [==============================] - 16s 162ms/step - loss: 0.1143 - acc: 0.9530 - val_loss: 5.1533e-04 - val_acc: 0.9580\n",
            "Epoch 21/100\n",
            "100/100 [==============================] - 16s 161ms/step - loss: 0.0942 - acc: 0.9635 - val_loss: 0.0317 - val_acc: 0.9580\n",
            "Epoch 22/100\n",
            "100/100 [==============================] - 17s 165ms/step - loss: 0.1451 - acc: 0.9505 - val_loss: 0.0054 - val_acc: 0.9570\n",
            "Epoch 23/100\n",
            "100/100 [==============================] - 16s 162ms/step - loss: 0.1246 - acc: 0.9525 - val_loss: 7.5648e-04 - val_acc: 0.9580\n",
            "Epoch 24/100\n",
            "100/100 [==============================] - 16s 161ms/step - loss: 0.1032 - acc: 0.9635 - val_loss: 0.0475 - val_acc: 0.9600\n",
            "Epoch 25/100\n",
            "100/100 [==============================] - 16s 161ms/step - loss: 0.1156 - acc: 0.9600 - val_loss: 0.1908 - val_acc: 0.9590\n",
            "Epoch 26/100\n",
            "100/100 [==============================] - 16s 161ms/step - loss: 0.1172 - acc: 0.9565 - val_loss: 0.4615 - val_acc: 0.9600\n",
            "Epoch 27/100\n",
            "100/100 [==============================] - 16s 162ms/step - loss: 0.1468 - acc: 0.9455 - val_loss: 0.1768 - val_acc: 0.9530\n",
            "Epoch 28/100\n",
            "100/100 [==============================] - 16s 162ms/step - loss: 0.1244 - acc: 0.9555 - val_loss: 0.1404 - val_acc: 0.9590\n",
            "Epoch 29/100\n",
            "100/100 [==============================] - 16s 164ms/step - loss: 0.0970 - acc: 0.9620 - val_loss: 0.0356 - val_acc: 0.9600\n",
            "Epoch 30/100\n",
            "100/100 [==============================] - 16s 161ms/step - loss: 0.1010 - acc: 0.9635 - val_loss: 0.3122 - val_acc: 0.9570\n",
            "Epoch 31/100\n",
            "100/100 [==============================] - 16s 162ms/step - loss: 0.1088 - acc: 0.9620 - val_loss: 0.0267 - val_acc: 0.9590\n",
            "Epoch 32/100\n",
            "100/100 [==============================] - 16s 162ms/step - loss: 0.1040 - acc: 0.9615 - val_loss: 0.0157 - val_acc: 0.9530\n",
            "Epoch 33/100\n",
            "100/100 [==============================] - 16s 162ms/step - loss: 0.1102 - acc: 0.9615 - val_loss: 0.0299 - val_acc: 0.9580\n",
            "Epoch 34/100\n",
            "100/100 [==============================] - 16s 162ms/step - loss: 0.1020 - acc: 0.9625 - val_loss: 0.0028 - val_acc: 0.9600\n",
            "Epoch 35/100\n",
            "100/100 [==============================] - 16s 162ms/step - loss: 0.1154 - acc: 0.9635 - val_loss: 0.1032 - val_acc: 0.9630\n",
            "Epoch 36/100\n",
            "100/100 [==============================] - 16s 162ms/step - loss: 0.1129 - acc: 0.9580 - val_loss: 0.2289 - val_acc: 0.9540\n",
            "Epoch 37/100\n",
            "100/100 [==============================] - 16s 162ms/step - loss: 0.0791 - acc: 0.9720 - val_loss: 0.0044 - val_acc: 0.9570\n",
            "Epoch 38/100\n",
            "100/100 [==============================] - 16s 162ms/step - loss: 0.1077 - acc: 0.9650 - val_loss: 2.8537e-06 - val_acc: 0.9570\n",
            "Epoch 39/100\n",
            "100/100 [==============================] - 16s 162ms/step - loss: 0.0925 - acc: 0.9670 - val_loss: 0.0090 - val_acc: 0.9610\n",
            "Epoch 40/100\n",
            "100/100 [==============================] - 16s 162ms/step - loss: 0.1052 - acc: 0.9645 - val_loss: 0.0028 - val_acc: 0.9580\n",
            "Epoch 41/100\n",
            "100/100 [==============================] - 16s 161ms/step - loss: 0.0948 - acc: 0.9695 - val_loss: 1.1844 - val_acc: 0.9580\n",
            "Epoch 42/100\n",
            "100/100 [==============================] - 16s 163ms/step - loss: 0.0889 - acc: 0.9685 - val_loss: 0.4619 - val_acc: 0.9610\n",
            "Epoch 43/100\n",
            "100/100 [==============================] - 16s 161ms/step - loss: 0.1136 - acc: 0.9640 - val_loss: 0.1096 - val_acc: 0.9600\n",
            "Epoch 44/100\n",
            "100/100 [==============================] - 16s 163ms/step - loss: 0.0899 - acc: 0.9645 - val_loss: 0.1995 - val_acc: 0.9600\n",
            "Epoch 45/100\n",
            "100/100 [==============================] - 16s 161ms/step - loss: 0.0919 - acc: 0.9640 - val_loss: 0.4610 - val_acc: 0.9600\n",
            "Epoch 46/100\n",
            "100/100 [==============================] - 16s 162ms/step - loss: 0.1225 - acc: 0.9680 - val_loss: 0.0475 - val_acc: 0.9610\n",
            "Epoch 47/100\n",
            "100/100 [==============================] - 16s 162ms/step - loss: 0.0792 - acc: 0.9705 - val_loss: 2.3215e-04 - val_acc: 0.9570\n",
            "Epoch 48/100\n",
            "100/100 [==============================] - 16s 165ms/step - loss: 0.0855 - acc: 0.9760 - val_loss: 0.4211 - val_acc: 0.9490\n",
            "Epoch 49/100\n",
            "100/100 [==============================] - 16s 161ms/step - loss: 0.0996 - acc: 0.9695 - val_loss: 0.3687 - val_acc: 0.9490\n",
            "Epoch 50/100\n",
            "100/100 [==============================] - 16s 161ms/step - loss: 0.0933 - acc: 0.9705 - val_loss: 0.1075 - val_acc: 0.9590\n",
            "Epoch 51/100\n",
            "100/100 [==============================] - 16s 161ms/step - loss: 0.0880 - acc: 0.9740 - val_loss: 0.0924 - val_acc: 0.9600\n",
            "Epoch 52/100\n",
            "100/100 [==============================] - 16s 162ms/step - loss: 0.0914 - acc: 0.9680 - val_loss: 0.3095 - val_acc: 0.9580\n",
            "Epoch 53/100\n",
            "100/100 [==============================] - 16s 161ms/step - loss: 0.0832 - acc: 0.9735 - val_loss: 0.0175 - val_acc: 0.9550\n",
            "Epoch 54/100\n",
            "100/100 [==============================] - 16s 161ms/step - loss: 0.0881 - acc: 0.9700 - val_loss: 1.9005e-05 - val_acc: 0.9570\n",
            "Epoch 55/100\n",
            "100/100 [==============================] - 16s 162ms/step - loss: 0.0745 - acc: 0.9705 - val_loss: 0.8312 - val_acc: 0.9570\n",
            "Epoch 56/100\n",
            "100/100 [==============================] - 16s 161ms/step - loss: 0.0682 - acc: 0.9725 - val_loss: 9.1954e-04 - val_acc: 0.9610\n",
            "Epoch 57/100\n",
            "100/100 [==============================] - 16s 161ms/step - loss: 0.0925 - acc: 0.9715 - val_loss: 0.5513 - val_acc: 0.9600\n",
            "Epoch 58/100\n",
            "100/100 [==============================] - 16s 160ms/step - loss: 0.0922 - acc: 0.9715 - val_loss: 1.9939e-05 - val_acc: 0.9620\n",
            "Epoch 59/100\n",
            "100/100 [==============================] - 16s 161ms/step - loss: 0.0662 - acc: 0.9735 - val_loss: 0.0559 - val_acc: 0.9570\n",
            "Epoch 60/100\n",
            "100/100 [==============================] - 16s 161ms/step - loss: 0.0962 - acc: 0.9685 - val_loss: 0.2325 - val_acc: 0.9540\n",
            "Epoch 61/100\n",
            "100/100 [==============================] - 16s 160ms/step - loss: 0.0847 - acc: 0.9700 - val_loss: 0.0531 - val_acc: 0.9530\n",
            "Epoch 62/100\n",
            "100/100 [==============================] - 16s 162ms/step - loss: 0.0803 - acc: 0.9775 - val_loss: 0.0895 - val_acc: 0.9540\n",
            "Epoch 63/100\n",
            "100/100 [==============================] - 16s 161ms/step - loss: 0.0783 - acc: 0.9730 - val_loss: 1.7324e-05 - val_acc: 0.9590\n",
            "Epoch 64/100\n",
            "100/100 [==============================] - 16s 161ms/step - loss: 0.0869 - acc: 0.9705 - val_loss: 0.0038 - val_acc: 0.9550\n",
            "Epoch 65/100\n",
            "100/100 [==============================] - 16s 161ms/step - loss: 0.0635 - acc: 0.9765 - val_loss: 0.4419 - val_acc: 0.9550\n",
            "Epoch 66/100\n",
            "100/100 [==============================] - 16s 160ms/step - loss: 0.0971 - acc: 0.9715 - val_loss: 0.0334 - val_acc: 0.9570\n",
            "Epoch 67/100\n",
            "100/100 [==============================] - 16s 163ms/step - loss: 0.0976 - acc: 0.9700 - val_loss: 3.2795e-04 - val_acc: 0.9590\n",
            "Epoch 68/100\n",
            "100/100 [==============================] - 16s 162ms/step - loss: 0.0545 - acc: 0.9805 - val_loss: 5.3933e-04 - val_acc: 0.9510\n",
            "Epoch 69/100\n",
            "100/100 [==============================] - 16s 160ms/step - loss: 0.0719 - acc: 0.9765 - val_loss: 0.3324 - val_acc: 0.9600\n",
            "Epoch 70/100\n",
            "100/100 [==============================] - 16s 160ms/step - loss: 0.1004 - acc: 0.9705 - val_loss: 0.4693 - val_acc: 0.9580\n",
            "Epoch 71/100\n",
            "100/100 [==============================] - 16s 161ms/step - loss: 0.0839 - acc: 0.9720 - val_loss: 0.0386 - val_acc: 0.9570\n",
            "Epoch 72/100\n",
            "100/100 [==============================] - 16s 162ms/step - loss: 0.0873 - acc: 0.9740 - val_loss: 0.4045 - val_acc: 0.9570\n",
            "Epoch 73/100\n",
            "100/100 [==============================] - 16s 161ms/step - loss: 0.0905 - acc: 0.9730 - val_loss: 0.0042 - val_acc: 0.9580\n",
            "Epoch 74/100\n",
            "100/100 [==============================] - 16s 162ms/step - loss: 0.0688 - acc: 0.9710 - val_loss: 0.0023 - val_acc: 0.9530\n",
            "Epoch 75/100\n",
            "100/100 [==============================] - 16s 161ms/step - loss: 0.1033 - acc: 0.9705 - val_loss: 0.0182 - val_acc: 0.9500\n",
            "Epoch 76/100\n",
            "100/100 [==============================] - 16s 160ms/step - loss: 0.0587 - acc: 0.9800 - val_loss: 0.2423 - val_acc: 0.9540\n",
            "Epoch 77/100\n",
            "100/100 [==============================] - 16s 162ms/step - loss: 0.0697 - acc: 0.9735 - val_loss: 0.0841 - val_acc: 0.9490\n",
            "Epoch 78/100\n",
            "100/100 [==============================] - 16s 162ms/step - loss: 0.0694 - acc: 0.9730 - val_loss: 5.1893e-07 - val_acc: 0.9540\n",
            "Epoch 79/100\n",
            "100/100 [==============================] - 16s 161ms/step - loss: 0.0809 - acc: 0.9805 - val_loss: 0.0209 - val_acc: 0.9550\n",
            "Epoch 80/100\n",
            "100/100 [==============================] - 16s 162ms/step - loss: 0.0760 - acc: 0.9730 - val_loss: 6.0116e-05 - val_acc: 0.9560\n",
            "Epoch 81/100\n",
            "100/100 [==============================] - 16s 161ms/step - loss: 0.0653 - acc: 0.9755 - val_loss: 0.0890 - val_acc: 0.9530\n",
            "Epoch 82/100\n",
            "100/100 [==============================] - 16s 162ms/step - loss: 0.0591 - acc: 0.9835 - val_loss: 0.5239 - val_acc: 0.9490\n",
            "Epoch 83/100\n",
            "100/100 [==============================] - 16s 162ms/step - loss: 0.0583 - acc: 0.9775 - val_loss: 0.2163 - val_acc: 0.9580\n",
            "Epoch 84/100\n",
            "100/100 [==============================] - 16s 161ms/step - loss: 0.0637 - acc: 0.9810 - val_loss: 0.1472 - val_acc: 0.9540\n",
            "Epoch 85/100\n",
            "100/100 [==============================] - 16s 162ms/step - loss: 0.0875 - acc: 0.9775 - val_loss: 0.6511 - val_acc: 0.9540\n",
            "Epoch 86/100\n",
            "100/100 [==============================] - 16s 162ms/step - loss: 0.0615 - acc: 0.9800 - val_loss: 0.0015 - val_acc: 0.9590\n",
            "Epoch 87/100\n",
            "100/100 [==============================] - 16s 164ms/step - loss: 0.0528 - acc: 0.9820 - val_loss: 0.0077 - val_acc: 0.9610\n",
            "Epoch 88/100\n",
            "100/100 [==============================] - 16s 161ms/step - loss: 0.0584 - acc: 0.9815 - val_loss: 6.4825e-04 - val_acc: 0.9570\n",
            "Epoch 89/100\n",
            "100/100 [==============================] - 16s 162ms/step - loss: 0.0802 - acc: 0.9795 - val_loss: 0.0134 - val_acc: 0.9580\n",
            "Epoch 90/100\n",
            "100/100 [==============================] - 16s 160ms/step - loss: 0.0872 - acc: 0.9725 - val_loss: 0.0117 - val_acc: 0.9550\n",
            "Epoch 91/100\n",
            "100/100 [==============================] - 16s 161ms/step - loss: 0.0751 - acc: 0.9810 - val_loss: 0.0979 - val_acc: 0.9590\n",
            "Epoch 92/100\n",
            "100/100 [==============================] - 16s 161ms/step - loss: 0.0641 - acc: 0.9825 - val_loss: 8.6875e-07 - val_acc: 0.9620\n",
            "Epoch 93/100\n",
            "100/100 [==============================] - 16s 162ms/step - loss: 0.0637 - acc: 0.9790 - val_loss: 8.1250e-05 - val_acc: 0.9590\n",
            "Epoch 94/100\n",
            "100/100 [==============================] - 16s 160ms/step - loss: 0.0652 - acc: 0.9810 - val_loss: 0.1445 - val_acc: 0.9620\n",
            "Epoch 95/100\n",
            "100/100 [==============================] - 16s 161ms/step - loss: 0.0535 - acc: 0.9810 - val_loss: 0.0925 - val_acc: 0.9610\n",
            "Epoch 96/100\n",
            "100/100 [==============================] - 16s 161ms/step - loss: 0.0550 - acc: 0.9835 - val_loss: 0.3863 - val_acc: 0.9590\n",
            "Epoch 97/100\n",
            "100/100 [==============================] - 16s 161ms/step - loss: 0.0545 - acc: 0.9860 - val_loss: 0.2922 - val_acc: 0.9570\n",
            "Epoch 98/100\n",
            "100/100 [==============================] - 16s 162ms/step - loss: 0.0702 - acc: 0.9800 - val_loss: 6.6880e-04 - val_acc: 0.9550\n",
            "Epoch 99/100\n",
            "100/100 [==============================] - 16s 161ms/step - loss: 0.0847 - acc: 0.9785 - val_loss: 0.4477 - val_acc: 0.9580\n",
            "Epoch 100/100\n",
            "100/100 [==============================] - 16s 161ms/step - loss: 0.0564 - acc: 0.9830 - val_loss: 0.1886 - val_acc: 0.9540\n"
          ],
          "name": "stdout"
        }
      ]
    },
    {
      "cell_type": "markdown",
      "metadata": {
        "id": "xqRc_vHKc92U",
        "colab_type": "text"
      },
      "source": [
        "## Display curves of loss and accuracy during training"
      ]
    },
    {
      "cell_type": "code",
      "metadata": {
        "id": "ybWwdzz9bwuQ",
        "colab_type": "code",
        "outputId": "5bb14f70-3bb8-4921-cdc6-205b4875ccee",
        "colab": {
          "base_uri": "https://localhost:8080/",
          "height": 545
        }
      },
      "source": [
        "%matplotlib inline\n",
        "\n",
        "import matplotlib.pyplot as plt\n",
        "\n",
        "acc = history.history['acc']\n",
        "val_acc = history.history['val_acc']\n",
        "\n",
        "loss = history.history['loss']\n",
        "val_loss = history.history['val_loss']\n",
        "\n",
        "epochs = range(1, len(acc) + 1)\n",
        "\n",
        "# training and validation accuracy\n",
        "\n",
        "plt.plot(epochs, acc, 'bo', label='training acc')\n",
        "plt.plot(epochs, val_acc, 'b', label='validation acc')\n",
        "plt.title('training and validation accuracy')\n",
        "plt.legend()\n",
        "\n",
        "plt.figure()\n",
        "\n",
        "# training and validation loss\n",
        "\n",
        "plt.plot(epochs, loss, 'bo', label='training loss')\n",
        "plt.plot(epochs, val_loss, 'b', label='validation loss')\n",
        "plt.title('training and validation loss')\n",
        "plt.legend()\n",
        "\n",
        "plt.show()"
      ],
      "execution_count": 82,
      "outputs": [
        {
          "output_type": "display_data",
          "data": {
            "image/png": "[encoded data removed]",
            "text/plain": [
              "<Figure size 432x288 with 1 Axes>"
            ]
          },
          "metadata": {
            "tags": [],
            "needs_background": "light"
          }
        },
        {
          "output_type": "display_data",
          "data": {
            "image/png": "[encoded data removed]",
            "text/plain": [
              "<Figure size 432x288 with 1 Axes>"
            ]
          },
          "metadata": {
            "tags": [],
            "needs_background": "light"
          }
        }
      ]
    },
    {
      "cell_type": "markdown",
      "metadata": {
        "id": "lOWsxpey8lN0",
        "colab_type": "text"
      },
      "source": [
        "## Fine-tuning"
      ]
    },
    {
      "cell_type": "code",
      "metadata": {
        "id": "PwkVMx8N8qMw",
        "colab_type": "code",
        "colab": {}
      },
      "source": [
        "conv_base.trainable = True\n",
        "\n",
        "set_trainable = False\n",
        "for layer in conv_base.layers:\n",
        "  if layer.name == 'conv_pw_12':\n",
        "    set_trainable = True\n",
        "  if set_trainable:\n",
        "    layer.trainable = True\n",
        "  else:\n",
        "    layer.trainable = False"
      ],
      "execution_count": 0,
      "outputs": []
    },
    {
      "cell_type": "code",
      "metadata": {
        "id": "DyN-J7rs9cvo",
        "colab_type": "code",
        "outputId": "6f9a68ee-57bd-46e5-a248-e519a7f17b4a",
        "colab": {
          "base_uri": "https://localhost:8080/",
          "height": 1000
        }
      },
      "source": [
        "# compile model\n",
        "\n",
        "model.compile(\n",
        "    loss='binary_crossentropy',\n",
        "    #\n",
        "    # choose a smaller learning rate\n",
        "    #\n",
        "    optimizer=optimizers.RMSprop(lr=1e-5), \n",
        "    metrics=['acc'])\n",
        "\n",
        "# train\n",
        "\n",
        "history = model.fit_generator(\n",
        "    train_generator,\n",
        "    steps_per_epoch=100,\n",
        "    epochs=100,\n",
        "    validation_data=validation_generator,\n",
        "    validation_steps=50)"
      ],
      "execution_count": 84,
      "outputs": [
        {
          "output_type": "stream",
          "text": [
            "Epoch 1/100\n",
            "100/100 [==============================] - 19s 189ms/step - loss: 0.0536 - acc: 0.9795 - val_loss: 0.0397 - val_acc: 0.9530\n",
            "Epoch 2/100\n",
            "100/100 [==============================] - 16s 160ms/step - loss: 0.0349 - acc: 0.9885 - val_loss: 0.2907 - val_acc: 0.9540\n",
            "Epoch 3/100\n",
            "100/100 [==============================] - 16s 161ms/step - loss: 0.0760 - acc: 0.9760 - val_loss: 0.1850 - val_acc: 0.9550\n",
            "Epoch 4/100\n",
            "100/100 [==============================] - 16s 161ms/step - loss: 0.0597 - acc: 0.9815 - val_loss: 0.5092 - val_acc: 0.9560\n",
            "Epoch 5/100\n",
            "100/100 [==============================] - 16s 163ms/step - loss: 0.0478 - acc: 0.9845 - val_loss: 8.2557e-06 - val_acc: 0.9570\n",
            "Epoch 6/100\n",
            "100/100 [==============================] - 16s 162ms/step - loss: 0.0713 - acc: 0.9775 - val_loss: 0.1578 - val_acc: 0.9600\n",
            "Epoch 7/100\n",
            "100/100 [==============================] - 16s 161ms/step - loss: 0.0523 - acc: 0.9850 - val_loss: 0.0021 - val_acc: 0.9580\n",
            "Epoch 8/100\n",
            "100/100 [==============================] - 16s 161ms/step - loss: 0.0530 - acc: 0.9845 - val_loss: 0.1071 - val_acc: 0.9550\n",
            "Epoch 9/100\n",
            "100/100 [==============================] - 16s 161ms/step - loss: 0.0442 - acc: 0.9865 - val_loss: 1.3983e-04 - val_acc: 0.9540\n",
            "Epoch 10/100\n",
            "100/100 [==============================] - 16s 161ms/step - loss: 0.0409 - acc: 0.9850 - val_loss: 0.4319 - val_acc: 0.9540\n",
            "Epoch 11/100\n",
            "100/100 [==============================] - 16s 162ms/step - loss: 0.0511 - acc: 0.9835 - val_loss: 0.3246 - val_acc: 0.9530\n",
            "Epoch 12/100\n",
            "100/100 [==============================] - 16s 160ms/step - loss: 0.0409 - acc: 0.9880 - val_loss: 0.1054 - val_acc: 0.9550\n",
            "Epoch 13/100\n",
            "100/100 [==============================] - 16s 161ms/step - loss: 0.0608 - acc: 0.9830 - val_loss: 0.0471 - val_acc: 0.9550\n",
            "Epoch 14/100\n",
            "100/100 [==============================] - 16s 160ms/step - loss: 0.0499 - acc: 0.9810 - val_loss: 5.5645e-07 - val_acc: 0.9540\n",
            "Epoch 15/100\n",
            "100/100 [==============================] - 16s 161ms/step - loss: 0.0611 - acc: 0.9820 - val_loss: 0.0479 - val_acc: 0.9550\n",
            "Epoch 16/100\n",
            "100/100 [==============================] - 16s 162ms/step - loss: 0.0344 - acc: 0.9870 - val_loss: 0.1495 - val_acc: 0.9550\n",
            "Epoch 17/100\n",
            "100/100 [==============================] - 16s 162ms/step - loss: 0.0523 - acc: 0.9845 - val_loss: 0.0039 - val_acc: 0.9580\n",
            "Epoch 18/100\n",
            "100/100 [==============================] - 16s 160ms/step - loss: 0.0510 - acc: 0.9845 - val_loss: 4.6218e-04 - val_acc: 0.9520\n",
            "Epoch 19/100\n",
            "100/100 [==============================] - 16s 160ms/step - loss: 0.0355 - acc: 0.9890 - val_loss: 0.3440 - val_acc: 0.9540\n",
            "Epoch 20/100\n",
            "100/100 [==============================] - 16s 161ms/step - loss: 0.0414 - acc: 0.9870 - val_loss: 0.0518 - val_acc: 0.9530\n",
            "Epoch 21/100\n",
            "100/100 [==============================] - 16s 161ms/step - loss: 0.0693 - acc: 0.9805 - val_loss: 0.3386 - val_acc: 0.9580\n",
            "Epoch 22/100\n",
            "100/100 [==============================] - 16s 160ms/step - loss: 0.0425 - acc: 0.9910 - val_loss: 0.2421 - val_acc: 0.9500\n",
            "Epoch 23/100\n",
            "100/100 [==============================] - 16s 160ms/step - loss: 0.0491 - acc: 0.9865 - val_loss: 0.0978 - val_acc: 0.9530\n",
            "Epoch 24/100\n",
            "100/100 [==============================] - 16s 163ms/step - loss: 0.0348 - acc: 0.9890 - val_loss: 0.7550 - val_acc: 0.9560\n",
            "Epoch 25/100\n",
            "100/100 [==============================] - 16s 160ms/step - loss: 0.0422 - acc: 0.9865 - val_loss: 0.2776 - val_acc: 0.9540\n",
            "Epoch 26/100\n",
            "100/100 [==============================] - 16s 161ms/step - loss: 0.0496 - acc: 0.9855 - val_loss: 0.3876 - val_acc: 0.9510\n",
            "Epoch 27/100\n",
            "100/100 [==============================] - 16s 161ms/step - loss: 0.0612 - acc: 0.9795 - val_loss: 0.2177 - val_acc: 0.9570\n",
            "Epoch 28/100\n",
            "100/100 [==============================] - 16s 160ms/step - loss: 0.0527 - acc: 0.9855 - val_loss: 0.2490 - val_acc: 0.9560\n",
            "Epoch 29/100\n",
            "100/100 [==============================] - 16s 161ms/step - loss: 0.0415 - acc: 0.9870 - val_loss: 2.1900e-04 - val_acc: 0.9530\n",
            "Epoch 30/100\n",
            "100/100 [==============================] - 16s 161ms/step - loss: 0.0329 - acc: 0.9875 - val_loss: 9.3924e-05 - val_acc: 0.9580\n",
            "Epoch 31/100\n",
            "100/100 [==============================] - 16s 161ms/step - loss: 0.0539 - acc: 0.9855 - val_loss: 3.9166e-06 - val_acc: 0.9560\n",
            "Epoch 32/100\n",
            "100/100 [==============================] - 16s 162ms/step - loss: 0.0550 - acc: 0.9870 - val_loss: 0.5573 - val_acc: 0.9560\n",
            "Epoch 33/100\n",
            "100/100 [==============================] - 16s 161ms/step - loss: 0.0470 - acc: 0.9865 - val_loss: 0.0470 - val_acc: 0.9540\n",
            "Epoch 34/100\n",
            "100/100 [==============================] - 16s 161ms/step - loss: 0.0578 - acc: 0.9810 - val_loss: 0.3118 - val_acc: 0.9550\n",
            "Epoch 35/100\n",
            "100/100 [==============================] - 16s 161ms/step - loss: 0.0525 - acc: 0.9875 - val_loss: 1.1081e-06 - val_acc: 0.9580\n",
            "Epoch 36/100\n",
            "100/100 [==============================] - 16s 162ms/step - loss: 0.0572 - acc: 0.9810 - val_loss: 0.4671 - val_acc: 0.9570\n",
            "Epoch 37/100\n",
            "100/100 [==============================] - 16s 161ms/step - loss: 0.0445 - acc: 0.9845 - val_loss: 1.4034e-05 - val_acc: 0.9520\n",
            "Epoch 38/100\n",
            "100/100 [==============================] - 16s 160ms/step - loss: 0.0516 - acc: 0.9880 - val_loss: 1.1842 - val_acc: 0.9570\n",
            "Epoch 39/100\n",
            "100/100 [==============================] - 16s 161ms/step - loss: 0.0400 - acc: 0.9870 - val_loss: 0.1651 - val_acc: 0.9590\n",
            "Epoch 40/100\n",
            "100/100 [==============================] - 16s 161ms/step - loss: 0.0482 - acc: 0.9865 - val_loss: 1.2520e-04 - val_acc: 0.9550\n",
            "Epoch 41/100\n",
            "100/100 [==============================] - 16s 162ms/step - loss: 0.0711 - acc: 0.9800 - val_loss: 0.6720 - val_acc: 0.9570\n",
            "Epoch 42/100\n",
            "100/100 [==============================] - 16s 161ms/step - loss: 0.0227 - acc: 0.9930 - val_loss: 0.0428 - val_acc: 0.9540\n",
            "Epoch 43/100\n",
            "100/100 [==============================] - 16s 164ms/step - loss: 0.0286 - acc: 0.9880 - val_loss: 0.7641 - val_acc: 0.9570\n",
            "Epoch 44/100\n",
            "100/100 [==============================] - 16s 161ms/step - loss: 0.0628 - acc: 0.9810 - val_loss: 6.3569e-06 - val_acc: 0.9590\n",
            "Epoch 45/100\n",
            "100/100 [==============================] - 16s 161ms/step - loss: 0.0410 - acc: 0.9855 - val_loss: 0.1003 - val_acc: 0.9590\n",
            "Epoch 46/100\n",
            "100/100 [==============================] - 16s 163ms/step - loss: 0.0355 - acc: 0.9885 - val_loss: 1.4485e-05 - val_acc: 0.9580\n",
            "Epoch 47/100\n",
            "100/100 [==============================] - 16s 160ms/step - loss: 0.0421 - acc: 0.9845 - val_loss: 0.2973 - val_acc: 0.9590\n",
            "Epoch 48/100\n",
            "100/100 [==============================] - 16s 160ms/step - loss: 0.0348 - acc: 0.9930 - val_loss: 0.4785 - val_acc: 0.9590\n",
            "Epoch 49/100\n",
            "100/100 [==============================] - 16s 160ms/step - loss: 0.0607 - acc: 0.9815 - val_loss: 0.3413 - val_acc: 0.9570\n",
            "Epoch 50/100\n",
            "100/100 [==============================] - 16s 160ms/step - loss: 0.0604 - acc: 0.9845 - val_loss: 0.2099 - val_acc: 0.9580\n",
            "Epoch 51/100\n",
            "100/100 [==============================] - 16s 161ms/step - loss: 0.0476 - acc: 0.9870 - val_loss: 0.0704 - val_acc: 0.9560\n",
            "Epoch 52/100\n",
            "100/100 [==============================] - 16s 160ms/step - loss: 0.0507 - acc: 0.9870 - val_loss: 0.0045 - val_acc: 0.9560\n",
            "Epoch 53/100\n",
            "100/100 [==============================] - 16s 160ms/step - loss: 0.0346 - acc: 0.9880 - val_loss: 0.3853 - val_acc: 0.9580\n",
            "Epoch 54/100\n",
            "100/100 [==============================] - 16s 161ms/step - loss: 0.0557 - acc: 0.9810 - val_loss: 0.2650 - val_acc: 0.9580\n",
            "Epoch 55/100\n",
            "100/100 [==============================] - 16s 160ms/step - loss: 0.0652 - acc: 0.9855 - val_loss: 0.0017 - val_acc: 0.9590\n",
            "Epoch 56/100\n",
            "100/100 [==============================] - 16s 162ms/step - loss: 0.0561 - acc: 0.9820 - val_loss: 0.0011 - val_acc: 0.9570\n",
            "Epoch 57/100\n",
            "100/100 [==============================] - 16s 160ms/step - loss: 0.0339 - acc: 0.9875 - val_loss: 0.1456 - val_acc: 0.9580\n",
            "Epoch 58/100\n",
            "100/100 [==============================] - 16s 160ms/step - loss: 0.0676 - acc: 0.9805 - val_loss: 0.0014 - val_acc: 0.9540\n",
            "Epoch 59/100\n",
            "100/100 [==============================] - 16s 160ms/step - loss: 0.0488 - acc: 0.9860 - val_loss: 0.1984 - val_acc: 0.9560\n",
            "Epoch 60/100\n",
            "100/100 [==============================] - 16s 161ms/step - loss: 0.0561 - acc: 0.9835 - val_loss: 0.2151 - val_acc: 0.9600\n",
            "Epoch 61/100\n",
            "100/100 [==============================] - 16s 162ms/step - loss: 0.0287 - acc: 0.9920 - val_loss: 0.0024 - val_acc: 0.9570\n",
            "Epoch 62/100\n",
            "100/100 [==============================] - 16s 162ms/step - loss: 0.0468 - acc: 0.9865 - val_loss: 0.3226 - val_acc: 0.9570\n",
            "Epoch 63/100\n",
            "100/100 [==============================] - 16s 161ms/step - loss: 0.0546 - acc: 0.9830 - val_loss: 0.2512 - val_acc: 0.9570\n",
            "Epoch 64/100\n",
            "100/100 [==============================] - 16s 160ms/step - loss: 0.0354 - acc: 0.9895 - val_loss: 1.0776 - val_acc: 0.9470\n",
            "Epoch 65/100\n",
            "100/100 [==============================] - 16s 159ms/step - loss: 0.0352 - acc: 0.9895 - val_loss: 0.1145 - val_acc: 0.9570\n",
            "Epoch 66/100\n",
            "100/100 [==============================] - 16s 161ms/step - loss: 0.0471 - acc: 0.9835 - val_loss: 0.5165 - val_acc: 0.9560\n",
            "Epoch 67/100\n",
            "100/100 [==============================] - 16s 161ms/step - loss: 0.0406 - acc: 0.9880 - val_loss: 0.0347 - val_acc: 0.9550\n",
            "Epoch 68/100\n",
            "100/100 [==============================] - 16s 160ms/step - loss: 0.0328 - acc: 0.9910 - val_loss: 4.5399e-06 - val_acc: 0.9590\n",
            "Epoch 69/100\n",
            "100/100 [==============================] - 16s 161ms/step - loss: 0.0506 - acc: 0.9855 - val_loss: 0.0252 - val_acc: 0.9540\n",
            "Epoch 70/100\n",
            "100/100 [==============================] - 16s 160ms/step - loss: 0.0471 - acc: 0.9825 - val_loss: 2.4939e-05 - val_acc: 0.9600\n",
            "Epoch 71/100\n",
            "100/100 [==============================] - 16s 162ms/step - loss: 0.0578 - acc: 0.9870 - val_loss: 0.0763 - val_acc: 0.9590\n",
            "Epoch 72/100\n",
            "100/100 [==============================] - 16s 161ms/step - loss: 0.0638 - acc: 0.9790 - val_loss: 8.9933e-05 - val_acc: 0.9590\n",
            "Epoch 73/100\n",
            "100/100 [==============================] - 16s 161ms/step - loss: 0.0463 - acc: 0.9870 - val_loss: 0.0060 - val_acc: 0.9540\n",
            "Epoch 74/100\n",
            "100/100 [==============================] - 16s 161ms/step - loss: 0.0565 - acc: 0.9830 - val_loss: 0.0014 - val_acc: 0.9560\n",
            "Epoch 75/100\n",
            "100/100 [==============================] - 16s 160ms/step - loss: 0.0352 - acc: 0.9890 - val_loss: 2.3312e-06 - val_acc: 0.9580\n",
            "Epoch 76/100\n",
            "100/100 [==============================] - 16s 162ms/step - loss: 0.0412 - acc: 0.9850 - val_loss: 0.0025 - val_acc: 0.9550\n",
            "Epoch 77/100\n",
            "100/100 [==============================] - 16s 160ms/step - loss: 0.0309 - acc: 0.9900 - val_loss: 0.0968 - val_acc: 0.9500\n",
            "Epoch 78/100\n",
            "100/100 [==============================] - 16s 160ms/step - loss: 0.0363 - acc: 0.9875 - val_loss: 0.5121 - val_acc: 0.9590\n",
            "Epoch 79/100\n",
            "100/100 [==============================] - 16s 160ms/step - loss: 0.0320 - acc: 0.9885 - val_loss: 0.0136 - val_acc: 0.9590\n",
            "Epoch 80/100\n",
            "100/100 [==============================] - 16s 161ms/step - loss: 0.0724 - acc: 0.9820 - val_loss: 0.6034 - val_acc: 0.9580\n",
            "Epoch 81/100\n",
            "100/100 [==============================] - 16s 162ms/step - loss: 0.0316 - acc: 0.9885 - val_loss: 2.6181e-04 - val_acc: 0.9560\n",
            "Epoch 82/100\n",
            "100/100 [==============================] - 16s 161ms/step - loss: 0.0376 - acc: 0.9885 - val_loss: 0.2468 - val_acc: 0.9560\n",
            "Epoch 83/100\n",
            "100/100 [==============================] - 16s 159ms/step - loss: 0.0346 - acc: 0.9890 - val_loss: 1.4131e-05 - val_acc: 0.9570\n",
            "Epoch 84/100\n",
            "100/100 [==============================] - 16s 160ms/step - loss: 0.0439 - acc: 0.9845 - val_loss: 0.0098 - val_acc: 0.9560\n",
            "Epoch 85/100\n",
            "100/100 [==============================] - 16s 160ms/step - loss: 0.0521 - acc: 0.9850 - val_loss: 0.3036 - val_acc: 0.9580\n",
            "Epoch 86/100\n",
            "100/100 [==============================] - 16s 162ms/step - loss: 0.0445 - acc: 0.9860 - val_loss: 0.1423 - val_acc: 0.9560\n",
            "Epoch 87/100\n",
            "100/100 [==============================] - 16s 161ms/step - loss: 0.0471 - acc: 0.9855 - val_loss: 0.1792 - val_acc: 0.9540\n",
            "Epoch 88/100\n",
            "100/100 [==============================] - 16s 160ms/step - loss: 0.0318 - acc: 0.9880 - val_loss: 0.0264 - val_acc: 0.9580\n",
            "Epoch 89/100\n",
            "100/100 [==============================] - 16s 161ms/step - loss: 0.0473 - acc: 0.9855 - val_loss: 2.8104e-04 - val_acc: 0.9580\n",
            "Epoch 90/100\n",
            "100/100 [==============================] - 16s 161ms/step - loss: 0.0609 - acc: 0.9870 - val_loss: 0.2166 - val_acc: 0.9540\n",
            "Epoch 91/100\n",
            "100/100 [==============================] - 16s 162ms/step - loss: 0.0372 - acc: 0.9875 - val_loss: 0.3997 - val_acc: 0.9560\n",
            "Epoch 92/100\n",
            "100/100 [==============================] - 16s 161ms/step - loss: 0.0329 - acc: 0.9895 - val_loss: 0.0325 - val_acc: 0.9590\n",
            "Epoch 93/100\n",
            "100/100 [==============================] - 16s 160ms/step - loss: 0.0320 - acc: 0.9860 - val_loss: 2.5834e-07 - val_acc: 0.9570\n",
            "Epoch 94/100\n",
            "100/100 [==============================] - 16s 160ms/step - loss: 0.0447 - acc: 0.9885 - val_loss: 0.3018 - val_acc: 0.9560\n",
            "Epoch 95/100\n",
            "100/100 [==============================] - 16s 160ms/step - loss: 0.0277 - acc: 0.9920 - val_loss: 3.7914e-07 - val_acc: 0.9590\n",
            "Epoch 96/100\n",
            "100/100 [==============================] - 16s 163ms/step - loss: 0.0533 - acc: 0.9860 - val_loss: 0.0137 - val_acc: 0.9560\n",
            "Epoch 97/100\n",
            "100/100 [==============================] - 16s 163ms/step - loss: 0.0305 - acc: 0.9900 - val_loss: 0.2593 - val_acc: 0.9550\n",
            "Epoch 98/100\n",
            "100/100 [==============================] - 16s 162ms/step - loss: 0.0297 - acc: 0.9920 - val_loss: 0.2186 - val_acc: 0.9560\n",
            "Epoch 99/100\n",
            "100/100 [==============================] - 16s 162ms/step - loss: 0.0242 - acc: 0.9920 - val_loss: 0.1964 - val_acc: 0.9570\n",
            "Epoch 100/100\n",
            "100/100 [==============================] - 16s 162ms/step - loss: 0.0288 - acc: 0.9915 - val_loss: 0.4903 - val_acc: 0.9590\n"
          ],
          "name": "stdout"
        }
      ]
    },
    {
      "cell_type": "markdown",
      "metadata": {
        "id": "eVBQgh5M-Rtz",
        "colab_type": "text"
      },
      "source": [
        "## Display learning curves during fine-tuning"
      ]
    },
    {
      "cell_type": "code",
      "metadata": {
        "id": "mbkIw7Ie-NP4",
        "colab_type": "code",
        "outputId": "f379deec-cc64-4be9-db5a-436c54cf3913",
        "colab": {
          "base_uri": "https://localhost:8080/",
          "height": 545
        }
      },
      "source": [
        "%matplotlib inline\n",
        "\n",
        "import matplotlib.pyplot as plt\n",
        "\n",
        "acc = history.history['acc']\n",
        "val_acc = history.history['val_acc']\n",
        "\n",
        "loss = history.history['loss']\n",
        "val_loss = history.history['val_loss']\n",
        "\n",
        "epochs = range(1, len(acc) + 1)\n",
        "\n",
        "# training and validation accuracy\n",
        "\n",
        "plt.plot(epochs, acc, 'bo', label='training acc')\n",
        "plt.plot(epochs, val_acc, 'b', label='validation acc')\n",
        "plt.title('training and validation accuracy')\n",
        "plt.legend()\n",
        "\n",
        "plt.figure()\n",
        "\n",
        "# training and validation loss\n",
        "\n",
        "plt.plot(epochs, loss, 'bo', label='training loss')\n",
        "plt.plot(epochs, val_loss, 'b', label='validation loss')\n",
        "plt.title('training and validation loss')\n",
        "plt.legend()\n",
        "\n",
        "plt.show()"
      ],
      "execution_count": 85,
      "outputs": [
        {
          "output_type": "display_data",
          "data": {
            "image/png": "[encoded data removed]",
            "text/plain": [
              "<Figure size 432x288 with 1 Axes>"
            ]
          },
          "metadata": {
            "tags": [],
            "needs_background": "light"
          }
        },
        {
          "output_type": "display_data",
          "data": {
            "image/png": "[encoded data removed]",
            "text/plain": [
              "<Figure size 432x288 with 1 Axes>"
            ]
          },
          "metadata": {
            "tags": [],
            "needs_background": "light"
          }
        }
      ]
    },
    {
      "cell_type": "markdown",
      "metadata": {
        "id": "obQi6N4ZShdi",
        "colab_type": "text"
      },
      "source": [
        "This looks like overfitting. I should try  adding dropout for the densely connected layer."
      ]
    },
    {
      "cell_type": "markdown",
      "metadata": {
        "id": "he3Nw6TOJwjx",
        "colab_type": "text"
      },
      "source": [
        "## Print out validation loss and accuracy"
      ]
    },
    {
      "cell_type": "code",
      "metadata": {
        "id": "SVQtrk7uJdhl",
        "colab_type": "code",
        "colab": {}
      },
      "source": [
        "val_loss, val_acc = model.evaluate_generator(validation_generator, steps=50)"
      ],
      "execution_count": 0,
      "outputs": []
    },
    {
      "cell_type": "code",
      "metadata": {
        "id": "HpdddLi1SUMe",
        "colab_type": "code",
        "outputId": "02383e66-fcaa-4ba3-fbb2-3a9ddcee7639",
        "colab": {
          "base_uri": "https://localhost:8080/",
          "height": 54
        }
      },
      "source": [
        "print(\"Validation loss:\", val_loss)\n",
        "print(\"Validation accuracy:\", val_acc)"
      ],
      "execution_count": 87,
      "outputs": [
        {
          "output_type": "stream",
          "text": [
            "Validation loss: 0.4903033375740051\n",
            "Validation accuracy: 0.9589999914169312\n"
          ],
          "name": "stdout"
        }
      ]
    }
  ]
}