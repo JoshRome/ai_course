{
  "nbformat": 4,
  "nbformat_minor": 0,
  "metadata": {
    "colab": {
      "name": "HW4_3a.ipynb",
      "provenance": [],
      "collapsed_sections": [],
      "include_colab_link": true
    },
    "kernelspec": {
      "name": "python3",
      "display_name": "Python 3"
    },
    "accelerator": "GPU"
  },
  "cells": [
    {
      "cell_type": "markdown",
      "metadata": {
        "id": "view-in-github",
        "colab_type": "text"
      },
      "source": [
        "<a href=\"https://colab.research.google.com/github/JoshRome/ai_course/blob/master/HW4/HW4_3a.ipynb\" target=\"_parent\"><img src=\"https://colab.research.google.com/assets/colab-badge.svg\" alt=\"Open In Colab\"/></a>"
      ]
    },
    {
      "cell_type": "markdown",
      "metadata": {
        "id": "KSrgMJ5vKFzQ",
        "colab_type": "text"
      },
      "source": [
        "# Fine-tuning MobileNet "
      ]
    },
    {
      "cell_type": "markdown",
      "metadata": {
        "id": "TIW7bZaAK-Hf",
        "colab_type": "text"
      },
      "source": [
        "This is based on section 5.3 *Using a pretrained convnet* of the book *Deep learning with Python* by Francois Chollet. I have made several changes to the code. I use the data that is already provided by Google. I don't download the data from Kaggle as in the deep learning book."
      ]
    },
    {
      "cell_type": "markdown",
      "metadata": {
        "id": "nsBq__dVo2pj",
        "colab_type": "text"
      },
      "source": [
        "## Feature extraction"
      ]
    },
    {
      "cell_type": "markdown",
      "metadata": {
        "id": "0g6ETAM9o54M",
        "colab_type": "text"
      },
      "source": [
        "Feature extraction consists of using the representations learned by a previous network to extract interesting features from new samples. These features are then run through a new classifier, which is trained from scratch.\n",
        "\n",
        "We will use here the convolutional base of the MobileNet model to extract the features. We will feed these features to a densely connected classifier with dropout. We will fine-tune some layers."
      ]
    },
    {
      "cell_type": "markdown",
      "metadata": {
        "id": "BqIG8QHMLNOn",
        "colab_type": "text"
      },
      "source": [
        "## Download the data"
      ]
    },
    {
      "cell_type": "markdown",
      "metadata": {
        "id": "t3I1jd7cKV6_",
        "colab_type": "text"
      },
      "source": [
        "Download the example data, a zip. of 2,000 JPG pictures of cats and dogs and extract it locally in ```/tmp```.\n",
        "\n"
      ]
    },
    {
      "cell_type": "code",
      "metadata": {
        "id": "JWjprHEXJ5Qi",
        "colab_type": "code",
        "outputId": "400f1dae-6bc3-4a78-f58c-b0cff3b23bab",
        "colab": {
          "base_uri": "https://localhost:8080/",
          "height": 223
        }
      },
      "source": [
        "!wget --no-check-certificate \\\n",
        "    https://storage.googleapis.com/mledu-datasets/cats_and_dogs_filtered.zip \\\n",
        "    -O /tmp/cats_and_dogs_filtered.zip"
      ],
      "execution_count": 46,
      "outputs": [
        {
          "output_type": "stream",
          "text": [
            "--2020-04-20 18:58:15--  https://storage.googleapis.com/mledu-datasets/cats_and_dogs_filtered.zip\n",
            "Resolving storage.googleapis.com (storage.googleapis.com)... 74.125.204.128, 2404:6800:4008:c07::80\n",
            "Connecting to storage.googleapis.com (storage.googleapis.com)|74.125.204.128|:443... connected.\n",
            "HTTP request sent, awaiting response... 200 OK\n",
            "Length: 68606236 (65M) [application/zip]\n",
            "Saving to: ‘/tmp/cats_and_dogs_filtered.zip’\n",
            "\n",
            "/tmp/cats_and_dogs_ 100%[===================>]  65.43M  84.1MB/s    in 0.8s    \n",
            "\n",
            "2020-04-20 18:58:16 (84.1 MB/s) - ‘/tmp/cats_and_dogs_filtered.zip’ saved [68606236/68606236]\n",
            "\n"
          ],
          "name": "stdout"
        }
      ]
    },
    {
      "cell_type": "code",
      "metadata": {
        "id": "WvoHtdA-K6Rw",
        "colab_type": "code",
        "colab": {}
      },
      "source": [
        "import os\n",
        "import zipfile\n",
        "\n",
        "local_zip = '/tmp/cats_and_dogs_filtered.zip'\n",
        "zip_ref = zipfile.ZipFile(local_zip, 'r')\n",
        "zip_ref.extractall('/tmp')\n",
        "zip_ref.close()"
      ],
      "execution_count": 0,
      "outputs": []
    },
    {
      "cell_type": "markdown",
      "metadata": {
        "id": "shZiOBnJMyy_",
        "colab_type": "text"
      },
      "source": [
        "Note that the data provided by Google does not have a test set."
      ]
    },
    {
      "cell_type": "code",
      "metadata": {
        "id": "dL8ikM89LlsH",
        "colab_type": "code",
        "colab": {}
      },
      "source": [
        "base_dir = '/tmp/cats_and_dogs_filtered'\n",
        "train_dir = os.path.join(base_dir, 'train')\n",
        "validation_dir = os.path.join(base_dir, 'validation')\n",
        "\n",
        "# Directory with our training cat pictures\n",
        "train_cats_dir = os.path.join(train_dir, 'cats')\n",
        "\n",
        "# Directory with our training dog pictures\n",
        "train_dogs_dir = os.path.join(train_dir, 'dogs')\n",
        "\n",
        "# Directory with our validation cat pictures\n",
        "validation_cats_dir = os.path.join(validation_dir, 'cats')\n",
        "\n",
        "# Directory with our validation dog pictures\n",
        "validation_dogs_dir = os.path.join(validation_dir, 'dogs')"
      ],
      "execution_count": 0,
      "outputs": []
    },
    {
      "cell_type": "markdown",
      "metadata": {
        "id": "inyP8bcdXnn-",
        "colab_type": "text"
      },
      "source": [
        "## Build network with MobileNet convolution base and custom densely connected layers"
      ]
    },
    {
      "cell_type": "markdown",
      "metadata": {
        "id": "kQ48W5T9rHWu",
        "colab_type": "text"
      },
      "source": [
        "### Load the convolutional base"
      ]
    },
    {
      "cell_type": "code",
      "metadata": {
        "id": "Y0FgtANCXm_H",
        "colab_type": "code",
        "outputId": "3aef662a-957e-4066-874a-6b79fa14ce07",
        "colab": {
          "base_uri": "https://localhost:8080/",
          "height": 74
        }
      },
      "source": [
        "from keras.applications import MobileNet\n",
        "\n",
        "conv_base = MobileNet(\n",
        "    weights='imagenet', \n",
        "    include_top=False, \n",
        "    input_shape=(150, 150, 3))"
      ],
      "execution_count": 49,
      "outputs": [
        {
          "output_type": "stream",
          "text": [
            "/usr/local/lib/python3.6/dist-packages/keras_applications/mobilenet.py:207: UserWarning: `input_shape` is undefined or non-square, or `rows` is not in [128, 160, 192, 224]. Weights for input shape (224, 224) will be loaded as the default.\n",
            "  warnings.warn('`input_shape` is undefined or non-square, '\n"
          ],
          "name": "stderr"
        }
      ]
    },
    {
      "cell_type": "code",
      "metadata": {
        "id": "AcIaitJOc89g",
        "colab_type": "code",
        "colab": {
          "base_uri": "https://localhost:8080/",
          "height": 1000
        },
        "outputId": "dde7ff6e-bc50-4515-8a67-44813818939c"
      },
      "source": [
        "conv_base.summary()"
      ],
      "execution_count": 50,
      "outputs": [
        {
          "output_type": "stream",
          "text": [
            "Model: \"mobilenet_1.00_224\"\n",
            "_________________________________________________________________\n",
            "Layer (type)                 Output Shape              Param #   \n",
            "=================================================================\n",
            "input_5 (InputLayer)         (None, 150, 150, 3)       0         \n",
            "_________________________________________________________________\n",
            "conv1_pad (ZeroPadding2D)    (None, 151, 151, 3)       0         \n",
            "_________________________________________________________________\n",
            "conv1 (Conv2D)               (None, 75, 75, 32)        864       \n",
            "_________________________________________________________________\n",
            "conv1_bn (BatchNormalization (None, 75, 75, 32)        128       \n",
            "_________________________________________________________________\n",
            "conv1_relu (ReLU)            (None, 75, 75, 32)        0         \n",
            "_________________________________________________________________\n",
            "conv_dw_1 (DepthwiseConv2D)  (None, 75, 75, 32)        288       \n",
            "_________________________________________________________________\n",
            "conv_dw_1_bn (BatchNormaliza (None, 75, 75, 32)        128       \n",
            "_________________________________________________________________\n",
            "conv_dw_1_relu (ReLU)        (None, 75, 75, 32)        0         \n",
            "_________________________________________________________________\n",
            "conv_pw_1 (Conv2D)           (None, 75, 75, 64)        2048      \n",
            "_________________________________________________________________\n",
            "conv_pw_1_bn (BatchNormaliza (None, 75, 75, 64)        256       \n",
            "_________________________________________________________________\n",
            "conv_pw_1_relu (ReLU)        (None, 75, 75, 64)        0         \n",
            "_________________________________________________________________\n",
            "conv_pad_2 (ZeroPadding2D)   (None, 76, 76, 64)        0         \n",
            "_________________________________________________________________\n",
            "conv_dw_2 (DepthwiseConv2D)  (None, 37, 37, 64)        576       \n",
            "_________________________________________________________________\n",
            "conv_dw_2_bn (BatchNormaliza (None, 37, 37, 64)        256       \n",
            "_________________________________________________________________\n",
            "conv_dw_2_relu (ReLU)        (None, 37, 37, 64)        0         \n",
            "_________________________________________________________________\n",
            "conv_pw_2 (Conv2D)           (None, 37, 37, 128)       8192      \n",
            "_________________________________________________________________\n",
            "conv_pw_2_bn (BatchNormaliza (None, 37, 37, 128)       512       \n",
            "_________________________________________________________________\n",
            "conv_pw_2_relu (ReLU)        (None, 37, 37, 128)       0         \n",
            "_________________________________________________________________\n",
            "conv_dw_3 (DepthwiseConv2D)  (None, 37, 37, 128)       1152      \n",
            "_________________________________________________________________\n",
            "conv_dw_3_bn (BatchNormaliza (None, 37, 37, 128)       512       \n",
            "_________________________________________________________________\n",
            "conv_dw_3_relu (ReLU)        (None, 37, 37, 128)       0         \n",
            "_________________________________________________________________\n",
            "conv_pw_3 (Conv2D)           (None, 37, 37, 128)       16384     \n",
            "_________________________________________________________________\n",
            "conv_pw_3_bn (BatchNormaliza (None, 37, 37, 128)       512       \n",
            "_________________________________________________________________\n",
            "conv_pw_3_relu (ReLU)        (None, 37, 37, 128)       0         \n",
            "_________________________________________________________________\n",
            "conv_pad_4 (ZeroPadding2D)   (None, 38, 38, 128)       0         \n",
            "_________________________________________________________________\n",
            "conv_dw_4 (DepthwiseConv2D)  (None, 18, 18, 128)       1152      \n",
            "_________________________________________________________________\n",
            "conv_dw_4_bn (BatchNormaliza (None, 18, 18, 128)       512       \n",
            "_________________________________________________________________\n",
            "conv_dw_4_relu (ReLU)        (None, 18, 18, 128)       0         \n",
            "_________________________________________________________________\n",
            "conv_pw_4 (Conv2D)           (None, 18, 18, 256)       32768     \n",
            "_________________________________________________________________\n",
            "conv_pw_4_bn (BatchNormaliza (None, 18, 18, 256)       1024      \n",
            "_________________________________________________________________\n",
            "conv_pw_4_relu (ReLU)        (None, 18, 18, 256)       0         \n",
            "_________________________________________________________________\n",
            "conv_dw_5 (DepthwiseConv2D)  (None, 18, 18, 256)       2304      \n",
            "_________________________________________________________________\n",
            "conv_dw_5_bn (BatchNormaliza (None, 18, 18, 256)       1024      \n",
            "_________________________________________________________________\n",
            "conv_dw_5_relu (ReLU)        (None, 18, 18, 256)       0         \n",
            "_________________________________________________________________\n",
            "conv_pw_5 (Conv2D)           (None, 18, 18, 256)       65536     \n",
            "_________________________________________________________________\n",
            "conv_pw_5_bn (BatchNormaliza (None, 18, 18, 256)       1024      \n",
            "_________________________________________________________________\n",
            "conv_pw_5_relu (ReLU)        (None, 18, 18, 256)       0         \n",
            "_________________________________________________________________\n",
            "conv_pad_6 (ZeroPadding2D)   (None, 19, 19, 256)       0         \n",
            "_________________________________________________________________\n",
            "conv_dw_6 (DepthwiseConv2D)  (None, 9, 9, 256)         2304      \n",
            "_________________________________________________________________\n",
            "conv_dw_6_bn (BatchNormaliza (None, 9, 9, 256)         1024      \n",
            "_________________________________________________________________\n",
            "conv_dw_6_relu (ReLU)        (None, 9, 9, 256)         0         \n",
            "_________________________________________________________________\n",
            "conv_pw_6 (Conv2D)           (None, 9, 9, 512)         131072    \n",
            "_________________________________________________________________\n",
            "conv_pw_6_bn (BatchNormaliza (None, 9, 9, 512)         2048      \n",
            "_________________________________________________________________\n",
            "conv_pw_6_relu (ReLU)        (None, 9, 9, 512)         0         \n",
            "_________________________________________________________________\n",
            "conv_dw_7 (DepthwiseConv2D)  (None, 9, 9, 512)         4608      \n",
            "_________________________________________________________________\n",
            "conv_dw_7_bn (BatchNormaliza (None, 9, 9, 512)         2048      \n",
            "_________________________________________________________________\n",
            "conv_dw_7_relu (ReLU)        (None, 9, 9, 512)         0         \n",
            "_________________________________________________________________\n",
            "conv_pw_7 (Conv2D)           (None, 9, 9, 512)         262144    \n",
            "_________________________________________________________________\n",
            "conv_pw_7_bn (BatchNormaliza (None, 9, 9, 512)         2048      \n",
            "_________________________________________________________________\n",
            "conv_pw_7_relu (ReLU)        (None, 9, 9, 512)         0         \n",
            "_________________________________________________________________\n",
            "conv_dw_8 (DepthwiseConv2D)  (None, 9, 9, 512)         4608      \n",
            "_________________________________________________________________\n",
            "conv_dw_8_bn (BatchNormaliza (None, 9, 9, 512)         2048      \n",
            "_________________________________________________________________\n",
            "conv_dw_8_relu (ReLU)        (None, 9, 9, 512)         0         \n",
            "_________________________________________________________________\n",
            "conv_pw_8 (Conv2D)           (None, 9, 9, 512)         262144    \n",
            "_________________________________________________________________\n",
            "conv_pw_8_bn (BatchNormaliza (None, 9, 9, 512)         2048      \n",
            "_________________________________________________________________\n",
            "conv_pw_8_relu (ReLU)        (None, 9, 9, 512)         0         \n",
            "_________________________________________________________________\n",
            "conv_dw_9 (DepthwiseConv2D)  (None, 9, 9, 512)         4608      \n",
            "_________________________________________________________________\n",
            "conv_dw_9_bn (BatchNormaliza (None, 9, 9, 512)         2048      \n",
            "_________________________________________________________________\n",
            "conv_dw_9_relu (ReLU)        (None, 9, 9, 512)         0         \n",
            "_________________________________________________________________\n",
            "conv_pw_9 (Conv2D)           (None, 9, 9, 512)         262144    \n",
            "_________________________________________________________________\n",
            "conv_pw_9_bn (BatchNormaliza (None, 9, 9, 512)         2048      \n",
            "_________________________________________________________________\n",
            "conv_pw_9_relu (ReLU)        (None, 9, 9, 512)         0         \n",
            "_________________________________________________________________\n",
            "conv_dw_10 (DepthwiseConv2D) (None, 9, 9, 512)         4608      \n",
            "_________________________________________________________________\n",
            "conv_dw_10_bn (BatchNormaliz (None, 9, 9, 512)         2048      \n",
            "_________________________________________________________________\n",
            "conv_dw_10_relu (ReLU)       (None, 9, 9, 512)         0         \n",
            "_________________________________________________________________\n",
            "conv_pw_10 (Conv2D)          (None, 9, 9, 512)         262144    \n",
            "_________________________________________________________________\n",
            "conv_pw_10_bn (BatchNormaliz (None, 9, 9, 512)         2048      \n",
            "_________________________________________________________________\n",
            "conv_pw_10_relu (ReLU)       (None, 9, 9, 512)         0         \n",
            "_________________________________________________________________\n",
            "conv_dw_11 (DepthwiseConv2D) (None, 9, 9, 512)         4608      \n",
            "_________________________________________________________________\n",
            "conv_dw_11_bn (BatchNormaliz (None, 9, 9, 512)         2048      \n",
            "_________________________________________________________________\n",
            "conv_dw_11_relu (ReLU)       (None, 9, 9, 512)         0         \n",
            "_________________________________________________________________\n",
            "conv_pw_11 (Conv2D)          (None, 9, 9, 512)         262144    \n",
            "_________________________________________________________________\n",
            "conv_pw_11_bn (BatchNormaliz (None, 9, 9, 512)         2048      \n",
            "_________________________________________________________________\n",
            "conv_pw_11_relu (ReLU)       (None, 9, 9, 512)         0         \n",
            "_________________________________________________________________\n",
            "conv_pad_12 (ZeroPadding2D)  (None, 10, 10, 512)       0         \n",
            "_________________________________________________________________\n",
            "conv_dw_12 (DepthwiseConv2D) (None, 4, 4, 512)         4608      \n",
            "_________________________________________________________________\n",
            "conv_dw_12_bn (BatchNormaliz (None, 4, 4, 512)         2048      \n",
            "_________________________________________________________________\n",
            "conv_dw_12_relu (ReLU)       (None, 4, 4, 512)         0         \n",
            "_________________________________________________________________\n",
            "conv_pw_12 (Conv2D)          (None, 4, 4, 1024)        524288    \n",
            "_________________________________________________________________\n",
            "conv_pw_12_bn (BatchNormaliz (None, 4, 4, 1024)        4096      \n",
            "_________________________________________________________________\n",
            "conv_pw_12_relu (ReLU)       (None, 4, 4, 1024)        0         \n",
            "_________________________________________________________________\n",
            "conv_dw_13 (DepthwiseConv2D) (None, 4, 4, 1024)        9216      \n",
            "_________________________________________________________________\n",
            "conv_dw_13_bn (BatchNormaliz (None, 4, 4, 1024)        4096      \n",
            "_________________________________________________________________\n",
            "conv_dw_13_relu (ReLU)       (None, 4, 4, 1024)        0         \n",
            "_________________________________________________________________\n",
            "conv_pw_13 (Conv2D)          (None, 4, 4, 1024)        1048576   \n",
            "_________________________________________________________________\n",
            "conv_pw_13_bn (BatchNormaliz (None, 4, 4, 1024)        4096      \n",
            "_________________________________________________________________\n",
            "conv_pw_13_relu (ReLU)       (None, 4, 4, 1024)        0         \n",
            "=================================================================\n",
            "Total params: 3,228,864\n",
            "Trainable params: 3,206,976\n",
            "Non-trainable params: 21,888\n",
            "_________________________________________________________________\n"
          ],
          "name": "stdout"
        }
      ]
    },
    {
      "cell_type": "markdown",
      "metadata": {
        "id": "D6OBHOO9q1ou",
        "colab_type": "text"
      },
      "source": [
        "### Freeze the convolutional base"
      ]
    },
    {
      "cell_type": "code",
      "metadata": {
        "id": "UleRo4Dpq6Ld",
        "colab_type": "code",
        "colab": {}
      },
      "source": [
        "conv_base.trainable = False"
      ],
      "execution_count": 0,
      "outputs": []
    },
    {
      "cell_type": "markdown",
      "metadata": {
        "id": "Qfx6PqhPrb7Q",
        "colab_type": "text"
      },
      "source": [
        "### Concatenate the convolutional base and densely connected layers"
      ]
    },
    {
      "cell_type": "code",
      "metadata": {
        "id": "qUpmocDAO3xm",
        "colab_type": "code",
        "colab": {}
      },
      "source": [
        "from keras import layers\n",
        "from keras import models\n",
        "from keras import optimizers\n",
        "\n",
        "model = models.Sequential()\n",
        "model.add(conv_base)\n",
        "model.add(layers.Flatten())\n",
        "model.add(layers.Dense(128, activation='relu'))\n",
        "model.add(layers.Dropout(0.1))\n",
        "model.add(layers.Dense(1, activation='sigmoid'))"
      ],
      "execution_count": 0,
      "outputs": []
    },
    {
      "cell_type": "code",
      "metadata": {
        "id": "Fh6gZSeAjF7c",
        "colab_type": "code",
        "outputId": "b8db93fd-2e2d-4478-92f7-a5849c7dbc87",
        "colab": {
          "base_uri": "https://localhost:8080/",
          "height": 354
        }
      },
      "source": [
        "model.summary()"
      ],
      "execution_count": 53,
      "outputs": [
        {
          "output_type": "stream",
          "text": [
            "Model: \"sequential_6\"\n",
            "_________________________________________________________________\n",
            "Layer (type)                 Output Shape              Param #   \n",
            "=================================================================\n",
            "mobilenet_1.00_224 (Model)   (None, 4, 4, 1024)        3228864   \n",
            "_________________________________________________________________\n",
            "flatten_4 (Flatten)          (None, 16384)             0         \n",
            "_________________________________________________________________\n",
            "dense_7 (Dense)              (None, 128)               2097280   \n",
            "_________________________________________________________________\n",
            "dropout_4 (Dropout)          (None, 128)               0         \n",
            "_________________________________________________________________\n",
            "dense_8 (Dense)              (None, 1)                 129       \n",
            "=================================================================\n",
            "Total params: 5,326,273\n",
            "Trainable params: 2,097,409\n",
            "Non-trainable params: 3,228,864\n",
            "_________________________________________________________________\n"
          ],
          "name": "stdout"
        }
      ]
    },
    {
      "cell_type": "markdown",
      "metadata": {
        "id": "eZjBiddhi5Qj",
        "colab_type": "text"
      },
      "source": [
        "## Train the model end to end with frozen convolutional base"
      ]
    },
    {
      "cell_type": "code",
      "metadata": {
        "id": "tfAQlC2Oi41L",
        "colab_type": "code",
        "outputId": "7d958012-1c86-4c2f-c9a1-29a9010b5412",
        "colab": {
          "base_uri": "https://localhost:8080/",
          "height": 1000
        }
      },
      "source": [
        "from keras.preprocessing.image import ImageDataGenerator\n",
        "from keras import optimizers\n",
        "\n",
        "# data augmentation\n",
        "\n",
        "train_datagen = ImageDataGenerator(\n",
        "    rescale=1./255, \n",
        "    rotation_range=40,\n",
        "    width_shift_range=0.2,\n",
        "    height_shift_range=0.2,\n",
        "    shear_range=0.2,\n",
        "    zoom_range=0.2,\n",
        "    horizontal_flip=True,\n",
        "    fill_mode='nearest'\n",
        ")\n",
        "\n",
        "train_generator = train_datagen.flow_from_directory(\n",
        "    train_dir,\n",
        "    target_size=(150, 150),\n",
        "    batch_size=20,\n",
        "    class_mode='binary')\n",
        "\n",
        "validation_datagen = ImageDataGenerator(rescale=1./255)\n",
        "\n",
        "validation_generator = validation_datagen.flow_from_directory(\n",
        "    validation_dir,\n",
        "    target_size=(150, 150),\n",
        "    batch_size=20,\n",
        "    class_mode='binary')\n",
        "\n",
        "# compile model\n",
        "\n",
        "model.compile(\n",
        "    loss='binary_crossentropy', \n",
        "    optimizer=optimizers.RMSprop(lr=2e-5), \n",
        "    metrics=['acc'])\n",
        "\n",
        "# train\n",
        "\n",
        "history = model.fit_generator(\n",
        "    train_generator,\n",
        "    steps_per_epoch=100,\n",
        "    epochs=100,\n",
        "    validation_data=validation_generator,\n",
        "    validation_steps=50\n",
        ")"
      ],
      "execution_count": 58,
      "outputs": [
        {
          "output_type": "stream",
          "text": [
            "Found 2000 images belonging to 2 classes.\n",
            "Found 1000 images belonging to 2 classes.\n",
            "Epoch 1/100\n",
            "100/100 [==============================] - 24s 243ms/step - loss: 0.1922 - acc: 0.9225 - val_loss: 0.5354 - val_acc: 0.9490\n",
            "Epoch 2/100\n",
            "100/100 [==============================] - 21s 210ms/step - loss: 0.1803 - acc: 0.9315 - val_loss: 0.0052 - val_acc: 0.9580\n",
            "Epoch 3/100\n",
            "100/100 [==============================] - 21s 206ms/step - loss: 0.1626 - acc: 0.9320 - val_loss: 0.0082 - val_acc: 0.9510\n",
            "Epoch 4/100\n",
            "100/100 [==============================] - 21s 207ms/step - loss: 0.2174 - acc: 0.9250 - val_loss: 0.1031 - val_acc: 0.9470\n",
            "Epoch 5/100\n",
            "100/100 [==============================] - 20s 205ms/step - loss: 0.1703 - acc: 0.9335 - val_loss: 0.0612 - val_acc: 0.9510\n",
            "Epoch 6/100\n",
            "100/100 [==============================] - 21s 208ms/step - loss: 0.1676 - acc: 0.9330 - val_loss: 0.0073 - val_acc: 0.9610\n",
            "Epoch 7/100\n",
            "100/100 [==============================] - 21s 208ms/step - loss: 0.1419 - acc: 0.9440 - val_loss: 0.0764 - val_acc: 0.9560\n",
            "Epoch 8/100\n",
            "100/100 [==============================] - 21s 206ms/step - loss: 0.1778 - acc: 0.9350 - val_loss: 0.5560 - val_acc: 0.9380\n",
            "Epoch 9/100\n",
            "100/100 [==============================] - 21s 206ms/step - loss: 0.1571 - acc: 0.9345 - val_loss: 0.1433 - val_acc: 0.9550\n",
            "Epoch 10/100\n",
            "100/100 [==============================] - 21s 205ms/step - loss: 0.1569 - acc: 0.9405 - val_loss: 0.0081 - val_acc: 0.9510\n",
            "Epoch 11/100\n",
            "100/100 [==============================] - 21s 209ms/step - loss: 0.1714 - acc: 0.9360 - val_loss: 0.0195 - val_acc: 0.9590\n",
            "Epoch 12/100\n",
            "100/100 [==============================] - 20s 204ms/step - loss: 0.1302 - acc: 0.9490 - val_loss: 0.0968 - val_acc: 0.9410\n",
            "Epoch 13/100\n",
            "100/100 [==============================] - 21s 207ms/step - loss: 0.1403 - acc: 0.9480 - val_loss: 7.6917e-04 - val_acc: 0.9580\n",
            "Epoch 14/100\n",
            "100/100 [==============================] - 20s 205ms/step - loss: 0.1556 - acc: 0.9395 - val_loss: 0.0131 - val_acc: 0.9490\n",
            "Epoch 15/100\n",
            "100/100 [==============================] - 21s 206ms/step - loss: 0.1504 - acc: 0.9395 - val_loss: 0.2010 - val_acc: 0.9600\n",
            "Epoch 16/100\n",
            "100/100 [==============================] - 21s 206ms/step - loss: 0.1266 - acc: 0.9495 - val_loss: 0.0483 - val_acc: 0.9560\n",
            "Epoch 17/100\n",
            "100/100 [==============================] - 21s 205ms/step - loss: 0.1416 - acc: 0.9465 - val_loss: 0.3997 - val_acc: 0.9600\n",
            "Epoch 18/100\n",
            "100/100 [==============================] - 20s 204ms/step - loss: 0.1507 - acc: 0.9445 - val_loss: 0.0756 - val_acc: 0.9450\n",
            "Epoch 19/100\n",
            "100/100 [==============================] - 20s 203ms/step - loss: 0.1174 - acc: 0.9505 - val_loss: 0.3720 - val_acc: 0.9590\n",
            "Epoch 20/100\n",
            "100/100 [==============================] - 21s 206ms/step - loss: 0.1390 - acc: 0.9455 - val_loss: 0.0561 - val_acc: 0.9470\n",
            "Epoch 21/100\n",
            "100/100 [==============================] - 20s 204ms/step - loss: 0.1275 - acc: 0.9505 - val_loss: 0.0848 - val_acc: 0.9530\n",
            "Epoch 22/100\n",
            "100/100 [==============================] - 21s 207ms/step - loss: 0.1295 - acc: 0.9490 - val_loss: 0.0147 - val_acc: 0.9560\n",
            "Epoch 23/100\n",
            "100/100 [==============================] - 20s 203ms/step - loss: 0.1001 - acc: 0.9600 - val_loss: 0.0090 - val_acc: 0.9460\n",
            "Epoch 24/100\n",
            "100/100 [==============================] - 21s 205ms/step - loss: 0.1148 - acc: 0.9560 - val_loss: 0.3426 - val_acc: 0.9570\n",
            "Epoch 25/100\n",
            "100/100 [==============================] - 20s 204ms/step - loss: 0.0992 - acc: 0.9640 - val_loss: 0.3927 - val_acc: 0.9630\n",
            "Epoch 26/100\n",
            "100/100 [==============================] - 20s 205ms/step - loss: 0.1134 - acc: 0.9625 - val_loss: 0.0097 - val_acc: 0.9570\n",
            "Epoch 27/100\n",
            "100/100 [==============================] - 21s 209ms/step - loss: 0.0989 - acc: 0.9610 - val_loss: 0.0169 - val_acc: 0.9690\n",
            "Epoch 28/100\n",
            "100/100 [==============================] - 20s 204ms/step - loss: 0.1070 - acc: 0.9595 - val_loss: 0.1740 - val_acc: 0.9640\n",
            "Epoch 29/100\n",
            "100/100 [==============================] - 21s 207ms/step - loss: 0.1162 - acc: 0.9570 - val_loss: 0.4272 - val_acc: 0.9610\n",
            "Epoch 30/100\n",
            "100/100 [==============================] - 20s 203ms/step - loss: 0.0996 - acc: 0.9640 - val_loss: 0.0566 - val_acc: 0.9580\n",
            "Epoch 31/100\n",
            "100/100 [==============================] - 21s 206ms/step - loss: 0.0975 - acc: 0.9650 - val_loss: 0.1832 - val_acc: 0.9570\n",
            "Epoch 32/100\n",
            "100/100 [==============================] - 20s 204ms/step - loss: 0.0970 - acc: 0.9645 - val_loss: 8.6147e-04 - val_acc: 0.9630\n",
            "Epoch 33/100\n",
            "100/100 [==============================] - 20s 204ms/step - loss: 0.1125 - acc: 0.9580 - val_loss: 0.1062 - val_acc: 0.9590\n",
            "Epoch 34/100\n",
            "100/100 [==============================] - 20s 204ms/step - loss: 0.1073 - acc: 0.9610 - val_loss: 0.0359 - val_acc: 0.9600\n",
            "Epoch 35/100\n",
            "100/100 [==============================] - 20s 202ms/step - loss: 0.1136 - acc: 0.9605 - val_loss: 0.0054 - val_acc: 0.9590\n",
            "Epoch 36/100\n",
            "100/100 [==============================] - 21s 207ms/step - loss: 0.1016 - acc: 0.9620 - val_loss: 0.7386 - val_acc: 0.9610\n",
            "Epoch 37/100\n",
            "100/100 [==============================] - 21s 207ms/step - loss: 0.1056 - acc: 0.9575 - val_loss: 0.1337 - val_acc: 0.9610\n",
            "Epoch 38/100\n",
            "100/100 [==============================] - 20s 205ms/step - loss: 0.0775 - acc: 0.9680 - val_loss: 0.0144 - val_acc: 0.9630\n",
            "Epoch 39/100\n",
            "100/100 [==============================] - 20s 203ms/step - loss: 0.1067 - acc: 0.9615 - val_loss: 0.0406 - val_acc: 0.9540\n",
            "Epoch 40/100\n",
            "100/100 [==============================] - 20s 204ms/step - loss: 0.0975 - acc: 0.9640 - val_loss: 0.1374 - val_acc: 0.9610\n",
            "Epoch 41/100\n",
            "100/100 [==============================] - 20s 203ms/step - loss: 0.1176 - acc: 0.9645 - val_loss: 0.0925 - val_acc: 0.9580\n",
            "Epoch 42/100\n",
            "100/100 [==============================] - 20s 201ms/step - loss: 0.0665 - acc: 0.9740 - val_loss: 0.0861 - val_acc: 0.9500\n",
            "Epoch 43/100\n",
            "100/100 [==============================] - 21s 206ms/step - loss: 0.0915 - acc: 0.9675 - val_loss: 0.0113 - val_acc: 0.9520\n",
            "Epoch 44/100\n",
            "100/100 [==============================] - 20s 203ms/step - loss: 0.0735 - acc: 0.9755 - val_loss: 0.0263 - val_acc: 0.9590\n",
            "Epoch 45/100\n",
            "100/100 [==============================] - 21s 205ms/step - loss: 0.0844 - acc: 0.9660 - val_loss: 0.3569 - val_acc: 0.9470\n",
            "Epoch 46/100\n",
            "100/100 [==============================] - 20s 204ms/step - loss: 0.0764 - acc: 0.9700 - val_loss: 0.1253 - val_acc: 0.9560\n",
            "Epoch 47/100\n",
            "100/100 [==============================] - 21s 206ms/step - loss: 0.0840 - acc: 0.9695 - val_loss: 0.0129 - val_acc: 0.9610\n",
            "Epoch 48/100\n",
            "100/100 [==============================] - 21s 205ms/step - loss: 0.1066 - acc: 0.9685 - val_loss: 0.0101 - val_acc: 0.9540\n",
            "Epoch 49/100\n",
            "100/100 [==============================] - 21s 207ms/step - loss: 0.0826 - acc: 0.9645 - val_loss: 0.1335 - val_acc: 0.9550\n",
            "Epoch 50/100\n",
            "100/100 [==============================] - 21s 207ms/step - loss: 0.0891 - acc: 0.9645 - val_loss: 7.7018e-04 - val_acc: 0.9570\n",
            "Epoch 51/100\n",
            "100/100 [==============================] - 21s 207ms/step - loss: 0.0885 - acc: 0.9680 - val_loss: 0.0061 - val_acc: 0.9600\n",
            "Epoch 52/100\n",
            "100/100 [==============================] - 21s 212ms/step - loss: 0.0874 - acc: 0.9685 - val_loss: 0.3298 - val_acc: 0.9570\n",
            "Epoch 53/100\n",
            "100/100 [==============================] - 21s 207ms/step - loss: 0.0675 - acc: 0.9710 - val_loss: 0.2098 - val_acc: 0.9640\n",
            "Epoch 54/100\n",
            "100/100 [==============================] - 21s 209ms/step - loss: 0.0903 - acc: 0.9695 - val_loss: 1.0961e-04 - val_acc: 0.9570\n",
            "Epoch 55/100\n",
            "100/100 [==============================] - 21s 206ms/step - loss: 0.0820 - acc: 0.9710 - val_loss: 5.4916e-04 - val_acc: 0.9520\n",
            "Epoch 56/100\n",
            "100/100 [==============================] - 21s 208ms/step - loss: 0.0797 - acc: 0.9695 - val_loss: 0.2841 - val_acc: 0.9510\n",
            "Epoch 57/100\n",
            "100/100 [==============================] - 21s 208ms/step - loss: 0.0821 - acc: 0.9745 - val_loss: 0.0454 - val_acc: 0.9560\n",
            "Epoch 58/100\n",
            "100/100 [==============================] - 21s 208ms/step - loss: 0.0934 - acc: 0.9710 - val_loss: 0.1132 - val_acc: 0.9590\n",
            "Epoch 59/100\n",
            "100/100 [==============================] - 21s 209ms/step - loss: 0.0820 - acc: 0.9730 - val_loss: 0.0670 - val_acc: 0.9520\n",
            "Epoch 60/100\n",
            "100/100 [==============================] - 21s 209ms/step - loss: 0.0755 - acc: 0.9750 - val_loss: 0.1820 - val_acc: 0.9550\n",
            "Epoch 61/100\n",
            "100/100 [==============================] - 21s 213ms/step - loss: 0.0905 - acc: 0.9695 - val_loss: 0.1641 - val_acc: 0.9530\n",
            "Epoch 62/100\n",
            "100/100 [==============================] - 21s 211ms/step - loss: 0.0822 - acc: 0.9720 - val_loss: 0.1461 - val_acc: 0.9530\n",
            "Epoch 63/100\n",
            "100/100 [==============================] - 21s 214ms/step - loss: 0.0825 - acc: 0.9720 - val_loss: 0.0853 - val_acc: 0.9510\n",
            "Epoch 64/100\n",
            "100/100 [==============================] - 21s 209ms/step - loss: 0.0887 - acc: 0.9690 - val_loss: 0.0772 - val_acc: 0.9590\n",
            "Epoch 65/100\n",
            "100/100 [==============================] - 21s 213ms/step - loss: 0.0860 - acc: 0.9660 - val_loss: 0.2408 - val_acc: 0.9540\n",
            "Epoch 66/100\n",
            "100/100 [==============================] - 21s 211ms/step - loss: 0.0696 - acc: 0.9720 - val_loss: 0.0014 - val_acc: 0.9530\n",
            "Epoch 67/100\n",
            "100/100 [==============================] - 21s 213ms/step - loss: 0.0758 - acc: 0.9710 - val_loss: 0.2915 - val_acc: 0.9560\n",
            "Epoch 68/100\n",
            "100/100 [==============================] - 21s 209ms/step - loss: 0.0704 - acc: 0.9725 - val_loss: 0.0834 - val_acc: 0.9550\n",
            "Epoch 69/100\n",
            "100/100 [==============================] - 21s 208ms/step - loss: 0.0862 - acc: 0.9720 - val_loss: 0.1470 - val_acc: 0.9550\n",
            "Epoch 70/100\n",
            "100/100 [==============================] - 21s 207ms/step - loss: 0.0730 - acc: 0.9715 - val_loss: 0.7718 - val_acc: 0.9600\n",
            "Epoch 71/100\n",
            "100/100 [==============================] - 21s 209ms/step - loss: 0.0511 - acc: 0.9800 - val_loss: 0.0047 - val_acc: 0.9560\n",
            "Epoch 72/100\n",
            "100/100 [==============================] - 21s 207ms/step - loss: 0.0814 - acc: 0.9730 - val_loss: 0.0105 - val_acc: 0.9540\n",
            "Epoch 73/100\n",
            "100/100 [==============================] - 21s 205ms/step - loss: 0.0666 - acc: 0.9775 - val_loss: 0.0217 - val_acc: 0.9570\n",
            "Epoch 74/100\n",
            "100/100 [==============================] - 21s 209ms/step - loss: 0.0699 - acc: 0.9735 - val_loss: 0.0224 - val_acc: 0.9570\n",
            "Epoch 75/100\n",
            "100/100 [==============================] - 21s 206ms/step - loss: 0.0583 - acc: 0.9775 - val_loss: 0.0061 - val_acc: 0.9570\n",
            "Epoch 76/100\n",
            "100/100 [==============================] - 21s 209ms/step - loss: 0.0631 - acc: 0.9785 - val_loss: 0.0564 - val_acc: 0.9580\n",
            "Epoch 77/100\n",
            "100/100 [==============================] - 21s 207ms/step - loss: 0.0654 - acc: 0.9760 - val_loss: 0.2250 - val_acc: 0.9620\n",
            "Epoch 78/100\n",
            "100/100 [==============================] - 21s 210ms/step - loss: 0.0596 - acc: 0.9780 - val_loss: 0.0269 - val_acc: 0.9610\n",
            "Epoch 79/100\n",
            "100/100 [==============================] - 21s 208ms/step - loss: 0.0592 - acc: 0.9820 - val_loss: 0.1632 - val_acc: 0.9620\n",
            "Epoch 80/100\n",
            "100/100 [==============================] - 21s 209ms/step - loss: 0.0594 - acc: 0.9775 - val_loss: 9.9336e-05 - val_acc: 0.9600\n",
            "Epoch 81/100\n",
            "100/100 [==============================] - 21s 209ms/step - loss: 0.0595 - acc: 0.9770 - val_loss: 0.1134 - val_acc: 0.9610\n",
            "Epoch 82/100\n",
            "100/100 [==============================] - 21s 209ms/step - loss: 0.0553 - acc: 0.9780 - val_loss: 0.0293 - val_acc: 0.9560\n",
            "Epoch 83/100\n",
            "100/100 [==============================] - 21s 209ms/step - loss: 0.0763 - acc: 0.9725 - val_loss: 0.1248 - val_acc: 0.9610\n",
            "Epoch 84/100\n",
            "100/100 [==============================] - 21s 208ms/step - loss: 0.0648 - acc: 0.9755 - val_loss: 0.0071 - val_acc: 0.9530\n",
            "Epoch 85/100\n",
            "100/100 [==============================] - 21s 212ms/step - loss: 0.0615 - acc: 0.9770 - val_loss: 0.1441 - val_acc: 0.9570\n",
            "Epoch 86/100\n",
            "100/100 [==============================] - 21s 209ms/step - loss: 0.0509 - acc: 0.9770 - val_loss: 0.0596 - val_acc: 0.9600\n",
            "Epoch 87/100\n",
            "100/100 [==============================] - 21s 210ms/step - loss: 0.0656 - acc: 0.9810 - val_loss: 0.0022 - val_acc: 0.9570\n",
            "Epoch 88/100\n",
            "100/100 [==============================] - 21s 208ms/step - loss: 0.0570 - acc: 0.9770 - val_loss: 0.7069 - val_acc: 0.9610\n",
            "Epoch 89/100\n",
            "100/100 [==============================] - 21s 210ms/step - loss: 0.0599 - acc: 0.9775 - val_loss: 0.1641 - val_acc: 0.9560\n",
            "Epoch 90/100\n",
            "100/100 [==============================] - 21s 208ms/step - loss: 0.0586 - acc: 0.9790 - val_loss: 0.0136 - val_acc: 0.9600\n",
            "Epoch 91/100\n",
            "100/100 [==============================] - 21s 209ms/step - loss: 0.0556 - acc: 0.9785 - val_loss: 9.1370e-04 - val_acc: 0.9530\n",
            "Epoch 92/100\n",
            "100/100 [==============================] - 21s 209ms/step - loss: 0.0423 - acc: 0.9845 - val_loss: 0.3462 - val_acc: 0.9530\n",
            "Epoch 93/100\n",
            "100/100 [==============================] - 21s 209ms/step - loss: 0.0627 - acc: 0.9800 - val_loss: 2.3306e-06 - val_acc: 0.9560\n",
            "Epoch 94/100\n",
            "100/100 [==============================] - 21s 207ms/step - loss: 0.0508 - acc: 0.9835 - val_loss: 0.2355 - val_acc: 0.9600\n",
            "Epoch 95/100\n",
            "100/100 [==============================] - 21s 208ms/step - loss: 0.0559 - acc: 0.9790 - val_loss: 4.6410e-04 - val_acc: 0.9580\n",
            "Epoch 96/100\n",
            "100/100 [==============================] - 21s 211ms/step - loss: 0.0355 - acc: 0.9870 - val_loss: 3.3026e-04 - val_acc: 0.9590\n",
            "Epoch 97/100\n",
            "100/100 [==============================] - 21s 208ms/step - loss: 0.0756 - acc: 0.9755 - val_loss: 0.1280 - val_acc: 0.9510\n",
            "Epoch 98/100\n",
            "100/100 [==============================] - 21s 212ms/step - loss: 0.0651 - acc: 0.9770 - val_loss: 0.5588 - val_acc: 0.9490\n",
            "Epoch 99/100\n",
            "100/100 [==============================] - 21s 208ms/step - loss: 0.0482 - acc: 0.9830 - val_loss: 0.1570 - val_acc: 0.9530\n",
            "Epoch 100/100\n",
            "100/100 [==============================] - 21s 209ms/step - loss: 0.0800 - acc: 0.9755 - val_loss: 0.0127 - val_acc: 0.9520\n"
          ],
          "name": "stdout"
        }
      ]
    },
    {
      "cell_type": "markdown",
      "metadata": {
        "id": "xqRc_vHKc92U",
        "colab_type": "text"
      },
      "source": [
        "## Display curves of loss and accuracy during training"
      ]
    },
    {
      "cell_type": "code",
      "metadata": {
        "id": "ybWwdzz9bwuQ",
        "colab_type": "code",
        "outputId": "b668b446-5eeb-47f8-bae1-51f4c2efb691",
        "colab": {
          "base_uri": "https://localhost:8080/",
          "height": 545
        }
      },
      "source": [
        "%matplotlib inline\n",
        "\n",
        "import matplotlib.pyplot as plt\n",
        "\n",
        "acc = history.history['acc']\n",
        "val_acc = history.history['val_acc']\n",
        "\n",
        "loss = history.history['loss']\n",
        "val_loss = history.history['val_loss']\n",
        "\n",
        "epochs = range(1, len(acc) + 1)\n",
        "\n",
        "# training and validation accuracy\n",
        "\n",
        "plt.plot(epochs, acc, 'bo', label='training acc')\n",
        "plt.plot(epochs, val_acc, 'b', label='validation acc')\n",
        "plt.title('training and validation accuracy')\n",
        "plt.legend()\n",
        "\n",
        "plt.figure()\n",
        "\n",
        "# training and validation loss\n",
        "\n",
        "plt.plot(epochs, loss, 'bo', label='training loss')\n",
        "plt.plot(epochs, val_loss, 'b', label='validation loss')\n",
        "plt.title('training and validation loss')\n",
        "plt.legend()\n",
        "\n",
        "plt.show()"
      ],
      "execution_count": 60,
      "outputs": [
        {
          "output_type": "display_data",
          "data": {
            "image/png": "[encoded data removed]",
            "text/plain": [
              "<Figure size 432x288 with 1 Axes>"
            ]
          },
          "metadata": {
            "tags": [],
            "needs_background": "light"
          }
        },
        {
          "output_type": "display_data",
          "data": {
            "image/png": "[encoded data removed]",
            "text/plain": [
              "<Figure size 432x288 with 1 Axes>"
            ]
          },
          "metadata": {
            "tags": [],
            "needs_background": "light"
          }
        }
      ]
    },
    {
      "cell_type": "markdown",
      "metadata": {
        "id": "lOWsxpey8lN0",
        "colab_type": "text"
      },
      "source": [
        "## Fine-tuning"
      ]
    },
    {
      "cell_type": "code",
      "metadata": {
        "id": "PwkVMx8N8qMw",
        "colab_type": "code",
        "colab": {}
      },
      "source": [
        "conv_base.trainable = True\n",
        "\n",
        "set_trainable = False\n",
        "for layer in conv_base.layers:\n",
        "  if layer.name == 'conv_pw_12':\n",
        "    set_trainable = True\n",
        "  if set_trainable:\n",
        "    layer.trainable = True\n",
        "  else:\n",
        "    layer.trainable = False"
      ],
      "execution_count": 0,
      "outputs": []
    },
    {
      "cell_type": "code",
      "metadata": {
        "id": "DyN-J7rs9cvo",
        "colab_type": "code",
        "outputId": "29c237af-49b8-4160-8b00-e32b6d3517bf",
        "colab": {
          "base_uri": "https://localhost:8080/",
          "height": 1000
        }
      },
      "source": [
        "# compile model\n",
        "\n",
        "model.compile(\n",
        "    loss='binary_crossentropy',\n",
        "    #\n",
        "    # choose a smaller learning rate\n",
        "    #\n",
        "    optimizer=optimizers.RMSprop(lr=1e-5), \n",
        "    metrics=['acc'])\n",
        "\n",
        "# train\n",
        "\n",
        "history = model.fit_generator(\n",
        "    train_generator,\n",
        "    steps_per_epoch=100,\n",
        "    epochs=100,\n",
        "    validation_data=validation_generator,\n",
        "    validation_steps=50)"
      ],
      "execution_count": 63,
      "outputs": [
        {
          "output_type": "stream",
          "text": [
            "Epoch 1/100\n",
            "100/100 [==============================] - 24s 242ms/step - loss: 0.0757 - acc: 0.9805 - val_loss: 0.6366 - val_acc: 0.9550\n",
            "Epoch 2/100\n",
            "100/100 [==============================] - 21s 205ms/step - loss: 0.0490 - acc: 0.9880 - val_loss: 0.0091 - val_acc: 0.9560\n",
            "Epoch 3/100\n",
            "100/100 [==============================] - 21s 207ms/step - loss: 0.0579 - acc: 0.9815 - val_loss: 0.0759 - val_acc: 0.9580\n",
            "Epoch 4/100\n",
            "100/100 [==============================] - 21s 205ms/step - loss: 0.0504 - acc: 0.9820 - val_loss: 0.1130 - val_acc: 0.9580\n",
            "Epoch 5/100\n",
            "100/100 [==============================] - 20s 204ms/step - loss: 0.0324 - acc: 0.9870 - val_loss: 3.1864e-08 - val_acc: 0.9560\n",
            "Epoch 6/100\n",
            "100/100 [==============================] - 20s 204ms/step - loss: 0.0734 - acc: 0.9765 - val_loss: 0.7396 - val_acc: 0.9580\n",
            "Epoch 7/100\n",
            "100/100 [==============================] - 20s 203ms/step - loss: 0.0270 - acc: 0.9915 - val_loss: 0.0050 - val_acc: 0.9560\n",
            "Epoch 8/100\n",
            "100/100 [==============================] - 21s 213ms/step - loss: 0.0553 - acc: 0.9810 - val_loss: 0.1568 - val_acc: 0.9600\n",
            "Epoch 9/100\n",
            "100/100 [==============================] - 21s 208ms/step - loss: 0.0546 - acc: 0.9830 - val_loss: 7.4132e-04 - val_acc: 0.9550\n",
            "Epoch 10/100\n",
            "100/100 [==============================] - 21s 210ms/step - loss: 0.0539 - acc: 0.9790 - val_loss: 0.0862 - val_acc: 0.9600\n",
            "Epoch 11/100\n",
            "100/100 [==============================] - 21s 207ms/step - loss: 0.0605 - acc: 0.9790 - val_loss: 0.1731 - val_acc: 0.9550\n",
            "Epoch 12/100\n",
            "100/100 [==============================] - 21s 208ms/step - loss: 0.0603 - acc: 0.9835 - val_loss: 0.1029 - val_acc: 0.9560\n",
            "Epoch 13/100\n",
            "100/100 [==============================] - 21s 208ms/step - loss: 0.0431 - acc: 0.9835 - val_loss: 0.0224 - val_acc: 0.9550\n",
            "Epoch 14/100\n",
            "100/100 [==============================] - 21s 207ms/step - loss: 0.0514 - acc: 0.9780 - val_loss: 0.0445 - val_acc: 0.9580\n",
            "Epoch 15/100\n",
            "100/100 [==============================] - 21s 207ms/step - loss: 0.0687 - acc: 0.9780 - val_loss: 0.3791 - val_acc: 0.9570\n",
            "Epoch 16/100\n",
            "100/100 [==============================] - 21s 207ms/step - loss: 0.0449 - acc: 0.9835 - val_loss: 0.1341 - val_acc: 0.9570\n",
            "Epoch 17/100\n",
            "100/100 [==============================] - 21s 210ms/step - loss: 0.0510 - acc: 0.9830 - val_loss: 0.0760 - val_acc: 0.9570\n",
            "Epoch 18/100\n",
            "100/100 [==============================] - 21s 208ms/step - loss: 0.0437 - acc: 0.9850 - val_loss: 0.5956 - val_acc: 0.9570\n",
            "Epoch 19/100\n",
            "100/100 [==============================] - 21s 211ms/step - loss: 0.0428 - acc: 0.9840 - val_loss: 0.0347 - val_acc: 0.9560\n",
            "Epoch 20/100\n",
            "100/100 [==============================] - 21s 207ms/step - loss: 0.0404 - acc: 0.9855 - val_loss: 0.0969 - val_acc: 0.9560\n",
            "Epoch 21/100\n",
            "100/100 [==============================] - 21s 210ms/step - loss: 0.0392 - acc: 0.9855 - val_loss: 0.0013 - val_acc: 0.9570\n",
            "Epoch 22/100\n",
            "100/100 [==============================] - 21s 207ms/step - loss: 0.0335 - acc: 0.9895 - val_loss: 0.0020 - val_acc: 0.9590\n",
            "Epoch 23/100\n",
            "100/100 [==============================] - 21s 210ms/step - loss: 0.0456 - acc: 0.9855 - val_loss: 0.0730 - val_acc: 0.9550\n",
            "Epoch 24/100\n",
            "100/100 [==============================] - 21s 208ms/step - loss: 0.0309 - acc: 0.9865 - val_loss: 0.8917 - val_acc: 0.9540\n",
            "Epoch 25/100\n",
            "100/100 [==============================] - 21s 208ms/step - loss: 0.0487 - acc: 0.9840 - val_loss: 9.5567e-05 - val_acc: 0.9510\n",
            "Epoch 26/100\n",
            "100/100 [==============================] - 21s 209ms/step - loss: 0.0670 - acc: 0.9785 - val_loss: 1.3651e-05 - val_acc: 0.9530\n",
            "Epoch 27/100\n",
            "100/100 [==============================] - 21s 208ms/step - loss: 0.0476 - acc: 0.9855 - val_loss: 0.0265 - val_acc: 0.9530\n",
            "Epoch 28/100\n",
            "100/100 [==============================] - 21s 213ms/step - loss: 0.0410 - acc: 0.9890 - val_loss: 0.5117 - val_acc: 0.9560\n",
            "Epoch 29/100\n",
            "100/100 [==============================] - 21s 209ms/step - loss: 0.0326 - acc: 0.9885 - val_loss: 0.5303 - val_acc: 0.9570\n",
            "Epoch 30/100\n",
            "100/100 [==============================] - 21s 210ms/step - loss: 0.0485 - acc: 0.9835 - val_loss: 9.4237e-04 - val_acc: 0.9540\n",
            "Epoch 31/100\n",
            "100/100 [==============================] - 21s 208ms/step - loss: 0.0348 - acc: 0.9865 - val_loss: 0.3010 - val_acc: 0.9580\n",
            "Epoch 32/100\n",
            "100/100 [==============================] - 21s 210ms/step - loss: 0.0483 - acc: 0.9845 - val_loss: 0.3457 - val_acc: 0.9560\n",
            "Epoch 33/100\n",
            "100/100 [==============================] - 20s 205ms/step - loss: 0.0510 - acc: 0.9830 - val_loss: 0.1574 - val_acc: 0.9560\n",
            "Epoch 34/100\n",
            "100/100 [==============================] - 20s 205ms/step - loss: 0.0457 - acc: 0.9820 - val_loss: 0.0643 - val_acc: 0.9530\n",
            "Epoch 35/100\n",
            "100/100 [==============================] - 21s 208ms/step - loss: 0.0287 - acc: 0.9885 - val_loss: 1.0402e-04 - val_acc: 0.9580\n",
            "Epoch 36/100\n",
            "100/100 [==============================] - 21s 208ms/step - loss: 0.0432 - acc: 0.9865 - val_loss: 0.1771 - val_acc: 0.9570\n",
            "Epoch 37/100\n",
            "100/100 [==============================] - 21s 210ms/step - loss: 0.0377 - acc: 0.9855 - val_loss: 1.1513e-04 - val_acc: 0.9560\n",
            "Epoch 38/100\n",
            "100/100 [==============================] - 21s 207ms/step - loss: 0.0584 - acc: 0.9810 - val_loss: 0.4002 - val_acc: 0.9560\n",
            "Epoch 39/100\n",
            "100/100 [==============================] - 21s 208ms/step - loss: 0.0264 - acc: 0.9920 - val_loss: 0.1347 - val_acc: 0.9560\n",
            "Epoch 40/100\n",
            "100/100 [==============================] - 20s 203ms/step - loss: 0.0519 - acc: 0.9850 - val_loss: 6.0780e-05 - val_acc: 0.9610\n",
            "Epoch 41/100\n",
            "100/100 [==============================] - 21s 205ms/step - loss: 0.0213 - acc: 0.9925 - val_loss: 0.5687 - val_acc: 0.9610\n",
            "Epoch 42/100\n",
            "100/100 [==============================] - 20s 202ms/step - loss: 0.0431 - acc: 0.9805 - val_loss: 0.0342 - val_acc: 0.9570\n",
            "Epoch 43/100\n",
            "100/100 [==============================] - 20s 202ms/step - loss: 0.0412 - acc: 0.9895 - val_loss: 0.0765 - val_acc: 0.9600\n",
            "Epoch 44/100\n",
            "100/100 [==============================] - 20s 202ms/step - loss: 0.0486 - acc: 0.9840 - val_loss: 0.1093 - val_acc: 0.9590\n",
            "Epoch 45/100\n",
            "100/100 [==============================] - 20s 202ms/step - loss: 0.0585 - acc: 0.9800 - val_loss: 0.0833 - val_acc: 0.9560\n",
            "Epoch 46/100\n",
            "100/100 [==============================] - 21s 206ms/step - loss: 0.0428 - acc: 0.9885 - val_loss: 0.0074 - val_acc: 0.9580\n",
            "Epoch 47/100\n",
            "100/100 [==============================] - 20s 204ms/step - loss: 0.0543 - acc: 0.9830 - val_loss: 9.6041e-04 - val_acc: 0.9590\n",
            "Epoch 48/100\n",
            "100/100 [==============================] - 20s 204ms/step - loss: 0.0723 - acc: 0.9795 - val_loss: 1.0354 - val_acc: 0.9570\n",
            "Epoch 49/100\n",
            "100/100 [==============================] - 20s 202ms/step - loss: 0.0384 - acc: 0.9855 - val_loss: 0.0475 - val_acc: 0.9600\n",
            "Epoch 50/100\n",
            "100/100 [==============================] - 20s 203ms/step - loss: 0.0351 - acc: 0.9870 - val_loss: 0.0014 - val_acc: 0.9580\n",
            "Epoch 51/100\n",
            "100/100 [==============================] - 20s 204ms/step - loss: 0.0417 - acc: 0.9830 - val_loss: 3.2470e-05 - val_acc: 0.9550\n",
            "Epoch 52/100\n",
            "100/100 [==============================] - 21s 208ms/step - loss: 0.0318 - acc: 0.9920 - val_loss: 0.0393 - val_acc: 0.9600\n",
            "Epoch 53/100\n",
            "100/100 [==============================] - 21s 207ms/step - loss: 0.0323 - acc: 0.9885 - val_loss: 0.0689 - val_acc: 0.9540\n",
            "Epoch 54/100\n",
            "100/100 [==============================] - 20s 201ms/step - loss: 0.0629 - acc: 0.9795 - val_loss: 0.3612 - val_acc: 0.9560\n",
            "Epoch 55/100\n",
            "100/100 [==============================] - 21s 206ms/step - loss: 0.0351 - acc: 0.9880 - val_loss: 0.3082 - val_acc: 0.9570\n",
            "Epoch 56/100\n",
            "100/100 [==============================] - 20s 202ms/step - loss: 0.0398 - acc: 0.9845 - val_loss: 0.3490 - val_acc: 0.9550\n",
            "Epoch 57/100\n",
            "100/100 [==============================] - 20s 205ms/step - loss: 0.0441 - acc: 0.9835 - val_loss: 0.1991 - val_acc: 0.9580\n",
            "Epoch 58/100\n",
            "100/100 [==============================] - 20s 202ms/step - loss: 0.0392 - acc: 0.9865 - val_loss: 0.3443 - val_acc: 0.9600\n",
            "Epoch 59/100\n",
            "100/100 [==============================] - 21s 205ms/step - loss: 0.0454 - acc: 0.9845 - val_loss: 0.3540 - val_acc: 0.9620\n",
            "Epoch 60/100\n",
            "100/100 [==============================] - 20s 204ms/step - loss: 0.0427 - acc: 0.9885 - val_loss: 0.2541 - val_acc: 0.9610\n",
            "Epoch 61/100\n",
            "100/100 [==============================] - 20s 205ms/step - loss: 0.0415 - acc: 0.9865 - val_loss: 0.6798 - val_acc: 0.9590\n",
            "Epoch 62/100\n",
            "100/100 [==============================] - 20s 204ms/step - loss: 0.0389 - acc: 0.9865 - val_loss: 0.2698 - val_acc: 0.9610\n",
            "Epoch 63/100\n",
            "100/100 [==============================] - 20s 203ms/step - loss: 0.0274 - acc: 0.9910 - val_loss: 0.2939 - val_acc: 0.9610\n",
            "Epoch 64/100\n",
            "100/100 [==============================] - 21s 208ms/step - loss: 0.0375 - acc: 0.9865 - val_loss: 0.0723 - val_acc: 0.9580\n",
            "Epoch 65/100\n",
            "100/100 [==============================] - 20s 203ms/step - loss: 0.0271 - acc: 0.9910 - val_loss: 0.2216 - val_acc: 0.9600\n",
            "Epoch 66/100\n",
            "100/100 [==============================] - 21s 205ms/step - loss: 0.0408 - acc: 0.9830 - val_loss: 0.0523 - val_acc: 0.9580\n",
            "Epoch 67/100\n",
            "100/100 [==============================] - 20s 201ms/step - loss: 0.0324 - acc: 0.9905 - val_loss: 1.5298e-06 - val_acc: 0.9570\n",
            "Epoch 68/100\n",
            "100/100 [==============================] - 21s 205ms/step - loss: 0.0666 - acc: 0.9830 - val_loss: 0.0010 - val_acc: 0.9580\n",
            "Epoch 69/100\n",
            "100/100 [==============================] - 20s 205ms/step - loss: 0.0579 - acc: 0.9830 - val_loss: 1.1127e-05 - val_acc: 0.9620\n",
            "Epoch 70/100\n",
            "100/100 [==============================] - 20s 202ms/step - loss: 0.0485 - acc: 0.9865 - val_loss: 0.0264 - val_acc: 0.9590\n",
            "Epoch 71/100\n",
            "100/100 [==============================] - 20s 204ms/step - loss: 0.0428 - acc: 0.9830 - val_loss: 4.6114e-07 - val_acc: 0.9530\n",
            "Epoch 72/100\n",
            "100/100 [==============================] - 20s 200ms/step - loss: 0.0307 - acc: 0.9915 - val_loss: 0.0984 - val_acc: 0.9550\n",
            "Epoch 73/100\n",
            "100/100 [==============================] - 20s 203ms/step - loss: 0.0395 - acc: 0.9875 - val_loss: 0.2484 - val_acc: 0.9550\n",
            "Epoch 74/100\n",
            "100/100 [==============================] - 20s 201ms/step - loss: 0.0349 - acc: 0.9855 - val_loss: 3.2595e-04 - val_acc: 0.9600\n",
            "Epoch 75/100\n",
            "100/100 [==============================] - 20s 199ms/step - loss: 0.0389 - acc: 0.9850 - val_loss: 4.7845e-04 - val_acc: 0.9580\n",
            "Epoch 76/100\n",
            "100/100 [==============================] - 20s 201ms/step - loss: 0.0500 - acc: 0.9850 - val_loss: 0.0040 - val_acc: 0.9570\n",
            "Epoch 77/100\n",
            "100/100 [==============================] - 20s 201ms/step - loss: 0.0447 - acc: 0.9855 - val_loss: 0.0416 - val_acc: 0.9600\n",
            "Epoch 78/100\n",
            "100/100 [==============================] - 20s 204ms/step - loss: 0.0337 - acc: 0.9890 - val_loss: 0.0969 - val_acc: 0.9580\n",
            "Epoch 79/100\n",
            "100/100 [==============================] - 20s 200ms/step - loss: 0.0453 - acc: 0.9860 - val_loss: 0.0190 - val_acc: 0.9550\n",
            "Epoch 80/100\n",
            "100/100 [==============================] - 20s 201ms/step - loss: 0.0379 - acc: 0.9890 - val_loss: 0.3054 - val_acc: 0.9590\n",
            "Epoch 81/100\n",
            "100/100 [==============================] - 20s 199ms/step - loss: 0.0228 - acc: 0.9925 - val_loss: 2.4318e-05 - val_acc: 0.9570\n",
            "Epoch 82/100\n",
            "100/100 [==============================] - 20s 200ms/step - loss: 0.0429 - acc: 0.9840 - val_loss: 0.0486 - val_acc: 0.9590\n",
            "Epoch 83/100\n",
            "100/100 [==============================] - 20s 202ms/step - loss: 0.0388 - acc: 0.9875 - val_loss: 3.2226e-05 - val_acc: 0.9570\n",
            "Epoch 84/100\n",
            "100/100 [==============================] - 20s 200ms/step - loss: 0.0443 - acc: 0.9845 - val_loss: 0.1290 - val_acc: 0.9610\n",
            "Epoch 85/100\n",
            "100/100 [==============================] - 20s 203ms/step - loss: 0.0253 - acc: 0.9915 - val_loss: 0.0129 - val_acc: 0.9590\n",
            "Epoch 86/100\n",
            "100/100 [==============================] - 20s 201ms/step - loss: 0.0268 - acc: 0.9905 - val_loss: 0.2283 - val_acc: 0.9590\n",
            "Epoch 87/100\n",
            "100/100 [==============================] - 20s 203ms/step - loss: 0.0463 - acc: 0.9850 - val_loss: 0.0147 - val_acc: 0.9580\n",
            "Epoch 88/100\n",
            "100/100 [==============================] - 20s 202ms/step - loss: 0.0337 - acc: 0.9905 - val_loss: 0.1155 - val_acc: 0.9540\n",
            "Epoch 89/100\n",
            "100/100 [==============================] - 20s 203ms/step - loss: 0.0340 - acc: 0.9860 - val_loss: 0.0052 - val_acc: 0.9610\n",
            "Epoch 90/100\n",
            "100/100 [==============================] - 20s 203ms/step - loss: 0.0353 - acc: 0.9895 - val_loss: 0.2897 - val_acc: 0.9590\n",
            "Epoch 91/100\n",
            "100/100 [==============================] - 20s 202ms/step - loss: 0.0378 - acc: 0.9855 - val_loss: 0.0016 - val_acc: 0.9580\n",
            "Epoch 92/100\n",
            "100/100 [==============================] - 20s 203ms/step - loss: 0.0388 - acc: 0.9845 - val_loss: 1.4182e-06 - val_acc: 0.9570\n",
            "Epoch 93/100\n",
            "100/100 [==============================] - 20s 200ms/step - loss: 0.0335 - acc: 0.9895 - val_loss: 0.2430 - val_acc: 0.9540\n",
            "Epoch 94/100\n",
            "100/100 [==============================] - 20s 203ms/step - loss: 0.0416 - acc: 0.9860 - val_loss: 1.6845e-05 - val_acc: 0.9540\n",
            "Epoch 95/100\n",
            "100/100 [==============================] - 20s 200ms/step - loss: 0.0371 - acc: 0.9905 - val_loss: 0.6324 - val_acc: 0.9540\n",
            "Epoch 96/100\n",
            "100/100 [==============================] - 20s 201ms/step - loss: 0.0292 - acc: 0.9900 - val_loss: 0.0740 - val_acc: 0.9530\n",
            "Epoch 97/100\n",
            "100/100 [==============================] - 20s 201ms/step - loss: 0.0308 - acc: 0.9875 - val_loss: 0.0738 - val_acc: 0.9540\n",
            "Epoch 98/100\n",
            "100/100 [==============================] - 20s 202ms/step - loss: 0.0337 - acc: 0.9885 - val_loss: 0.4592 - val_acc: 0.9580\n",
            "Epoch 99/100\n",
            "100/100 [==============================] - 21s 206ms/step - loss: 0.0388 - acc: 0.9865 - val_loss: 0.5741 - val_acc: 0.9550\n",
            "Epoch 100/100\n",
            "100/100 [==============================] - 20s 202ms/step - loss: 0.0273 - acc: 0.9905 - val_loss: 0.0058 - val_acc: 0.9540\n"
          ],
          "name": "stdout"
        }
      ]
    },
    {
      "cell_type": "markdown",
      "metadata": {
        "id": "eVBQgh5M-Rtz",
        "colab_type": "text"
      },
      "source": [
        "## Display learning curves during fine-tuning"
      ]
    },
    {
      "cell_type": "code",
      "metadata": {
        "id": "mbkIw7Ie-NP4",
        "colab_type": "code",
        "outputId": "4c2a94bd-cd13-4e3e-8ba5-dbd0c4fc6378",
        "colab": {
          "base_uri": "https://localhost:8080/",
          "height": 545
        }
      },
      "source": [
        "%matplotlib inline\n",
        "\n",
        "import matplotlib.pyplot as plt\n",
        "\n",
        "acc = history.history['acc']\n",
        "val_acc = history.history['val_acc']\n",
        "\n",
        "loss = history.history['loss']\n",
        "val_loss = history.history['val_loss']\n",
        "\n",
        "epochs = range(1, len(acc) + 1)\n",
        "\n",
        "# training and validation accuracy\n",
        "\n",
        "plt.plot(epochs, acc, 'bo', label='training acc')\n",
        "plt.plot(epochs, val_acc, 'b', label='validation acc')\n",
        "plt.title('training and validation accuracy')\n",
        "plt.legend()\n",
        "\n",
        "plt.figure()\n",
        "\n",
        "# training and validation loss\n",
        "\n",
        "plt.plot(epochs, loss, 'bo', label='training loss')\n",
        "plt.plot(epochs, val_loss, 'b', label='validation loss')\n",
        "plt.title('training and validation loss')\n",
        "plt.legend()\n",
        "\n",
        "plt.show()"
      ],
      "execution_count": 64,
      "outputs": [
        {
          "output_type": "display_data",
          "data": {
            "image/png": "[encoded data removed]",
            "text/plain": [
              "<Figure size 432x288 with 1 Axes>"
            ]
          },
          "metadata": {
            "tags": [],
            "needs_background": "light"
          }
        },
        {
          "output_type": "display_data",
          "data": {
            "image/png": "[encoded data removed]",
            "text/plain": [
              "<Figure size 432x288 with 1 Axes>"
            ]
          },
          "metadata": {
            "tags": [],
            "needs_background": "light"
          }
        }
      ]
    },
    {
      "cell_type": "markdown",
      "metadata": {
        "id": "obQi6N4ZShdi",
        "colab_type": "text"
      },
      "source": [
        "This looks like overfitting. I should try  adding dropout for the densely connected layer."
      ]
    },
    {
      "cell_type": "markdown",
      "metadata": {
        "id": "he3Nw6TOJwjx",
        "colab_type": "text"
      },
      "source": [
        "## Print out validation loss and accuracy"
      ]
    },
    {
      "cell_type": "code",
      "metadata": {
        "id": "SVQtrk7uJdhl",
        "colab_type": "code",
        "colab": {}
      },
      "source": [
        "val_loss, val_acc = model.evaluate_generator(validation_generator, steps=50)"
      ],
      "execution_count": 0,
      "outputs": []
    },
    {
      "cell_type": "code",
      "metadata": {
        "id": "HpdddLi1SUMe",
        "colab_type": "code",
        "outputId": "eae2f1e6-5c52-451c-9e6a-101df530c97d",
        "colab": {
          "base_uri": "https://localhost:8080/",
          "height": 54
        }
      },
      "source": [
        "print(\"Validation loss:\", val_loss)\n",
        "print(\"Validation accuracy:\", val_acc)"
      ],
      "execution_count": 45,
      "outputs": [
        {
          "output_type": "stream",
          "text": [
            "Validation loss: 0.07008541375398636\n",
            "Validation accuracy: 0.9599999785423279\n"
          ],
          "name": "stdout"
        }
      ]
    }
  ]
}